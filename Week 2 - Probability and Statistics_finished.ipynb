{
 "cells": [
  {
   "cell_type": "markdown",
   "metadata": {},
   "source": [
    "### Basic moments of one-dimensional data"
   ]
  },
  {
   "cell_type": "raw",
   "metadata": {},
   "source": [
    "Implement functions to compute median, mode, sample mean, sample variance, standard deviation of one-dimensional data \"without using numpy\"\n",
    "\n",
    "Example :\n",
    "data1 = np.array([1,2,3,4,5])\n",
    "data1_median = median(data1)\n",
    "data1_mode = mode(data1)\n",
    "data1_mean = mean(data1)\n",
    "data1_variance = variance(data1)\n",
    "data1_stddev = stddev(data1)"
   ]
  },
  {
   "cell_type": "code",
   "execution_count": 1,
   "metadata": {},
   "outputs": [],
   "source": [
    "import numpy as np"
   ]
  },
  {
   "cell_type": "code",
   "execution_count": 119,
   "metadata": {},
   "outputs": [],
   "source": [
    "def data_mean(arr):\n",
    "    mean = np.sum(arr)/len(arr)\n",
    "    return mean\n",
    "\n",
    "def data_variance(arr):\n",
    "    mean = np.sum(arr)/len(arr)\n",
    "    var = 0\n",
    "    for i in range(len(arr)):\n",
    "        add = (arr[i] - mean)**2\n",
    "        var = var + add\n",
    "    return var/(len(arr)-1)\n",
    "\n",
    "def data_stddev(arr):\n",
    "    mean = np.sum(arr)/len(arr)\n",
    "    var = 0\n",
    "    for i in range(len(arr)):\n",
    "        add = (arr[i] - mean)**2\n",
    "        var = var + add\n",
    "    return (var/(len(arr)-1))**(0.5)\n",
    "\n",
    "def data_median(arr):\n",
    "    arr.sort()\n",
    "    if len(arr)%2 != 0:\n",
    "        i = int(len(arr)/2)\n",
    "        median  = arr[i]\n",
    "    else:\n",
    "        i = len(arr)//2\n",
    "        median = (arr[i]+arr[i+1])/2\n",
    "    return median\n",
    "\n",
    "from collections import Counter \n",
    "  \n",
    "# list of elements to calculate mode \n",
    "def data_mode(n_num):\n",
    "    n = len(n_num) \n",
    "    data = Counter(n_num) \n",
    "    get_mode = dict(data) \n",
    "    mode = [k for k, v in get_mode.items() if v == max(list(data.values()))] \n",
    "    get_mode = \"Mode is / are: \" + ', '.join(map(str, mode)) \n",
    "    return get_mode\n"
   ]
  },
  {
   "cell_type": "code",
   "execution_count": 126,
   "metadata": {},
   "outputs": [
    {
     "data": {
      "text/plain": [
       "'Mode is / are: 4, 5'"
      ]
     },
     "execution_count": 126,
     "metadata": {},
     "output_type": "execute_result"
    }
   ],
   "source": [
    "\n",
    "data = np.array([1,2,3,4,5,5,4,])\n",
    "data_mode(data)\n"
   ]
  },
  {
   "cell_type": "raw",
   "metadata": {},
   "source": [
    "Compute the above for different one-dimensional datasets - data1.txt, data2.txt, data3.txt, data4.txt and store as data1_median, data2_median etc. "
   ]
  },
  {
   "cell_type": "code",
   "execution_count": 73,
   "metadata": {},
   "outputs": [],
   "source": [
    "data1 = np.loadtxt('data1.txt')\n",
    "data2 = np.loadtxt('data2.txt')\n",
    "data3 = np.loadtxt('data3.txt')\n",
    "data4 = np.loadtxt('data4.txt')\n",
    "data5 = np.loadtxt('data5.txt')"
   ]
  },
  {
   "cell_type": "code",
   "execution_count": 127,
   "metadata": {},
   "outputs": [],
   "source": [
    "data1_mean = data_mean(data1)\n",
    "data2_mean = data_mean(data2)\n",
    "data3_mean = data_mean(data3)\n",
    "data4_mean = data_mean(data4)\n",
    "data1_median = data_median(data1)\n",
    "data2_median = data_median(data2)\n",
    "data3_median = data_median(data3)\n",
    "data4_median = data_median(data4)\n",
    "data1_var = data_variance(data1)\n",
    "data2_var = data_variance(data2)\n",
    "data3_var = data_variance(data3)\n",
    "data4_var = data_variance(data4)\n",
    "data1_sd = data_stddev(data1)\n",
    "data2_sd = data_stddev(data2)\n",
    "data3_sd = data_stddev(data3)\n",
    "data4_sd = data_stddev(data4)\n",
    "data1_mode = data_mode(data1)\n",
    "data2_mode = data_mode(data2)\n",
    "data3_mode = data_mode(data3)\n",
    "data4_mode = data_mode(data4)\n",
    "\n",
    "\n",
    "\n"
   ]
  },
  {
   "cell_type": "code",
   "execution_count": 75,
   "metadata": {},
   "outputs": [
    {
     "data": {
      "text/plain": [
       "0.052976889205364565"
      ]
     },
     "execution_count": 75,
     "metadata": {},
     "output_type": "execute_result"
    }
   ],
   "source": [
    "data_median(data1)"
   ]
  },
  {
   "cell_type": "raw",
   "metadata": {},
   "source": [
    "Visualize all the datasets (1-4) separately using matplotlib scatter plot and histograms. \n",
    "\n",
    "1. Comment on initial observations of distributions. \n",
    "\n",
    "2. For each dataset, specify which descriptive statistics best describe the data.\n",
    "\n",
    "Example :\n",
    "data1 - mean\n",
    "data2 - mean\n",
    "data3 - mean\n",
    "data4 - mean"
   ]
  },
  {
   "cell_type": "code",
   "execution_count": 43,
   "metadata": {},
   "outputs": [
    {
     "data": {
      "text/plain": [
       "<matplotlib.collections.PathCollection at 0x144a0526e48>"
      ]
     },
     "execution_count": 43,
     "metadata": {},
     "output_type": "execute_result"
    },
    {
     "data": {
      "image/png": "[encoded data removed]",
      "text/plain": [
       "<Figure size 432x288 with 1 Axes>"
      ]
     },
     "metadata": {
      "needs_background": "light"
     },
     "output_type": "display_data"
    }
   ],
   "source": [
    "import matplotlib.pyplot as plt\n",
    "plt.scatter(data1, [0]*data1.shape[0])"
   ]
  },
  {
   "cell_type": "code",
   "execution_count": 42,
   "metadata": {},
   "outputs": [
    {
     "data": {
      "text/plain": [
       "<matplotlib.collections.PathCollection at 0x144a04cc748>"
      ]
     },
     "execution_count": 42,
     "metadata": {},
     "output_type": "execute_result"
    },
    {
     "data": {
      "image/png": "[encoded data removed]",
      "text/plain": [
       "<Figure size 432x288 with 1 Axes>"
      ]
     },
     "metadata": {
      "needs_background": "light"
     },
     "output_type": "display_data"
    }
   ],
   "source": [
    "plt.scatter(data2, [0]*data2.shape[0])\n"
   ]
  },
  {
   "cell_type": "code",
   "execution_count": 44,
   "metadata": {},
   "outputs": [
    {
     "data": {
      "text/plain": [
       "<matplotlib.collections.PathCollection at 0x144a0590d68>"
      ]
     },
     "execution_count": 44,
     "metadata": {},
     "output_type": "execute_result"
    },
    {
     "data": {
      "image/png": "[encoded data removed]",
      "text/plain": [
       "<Figure size 432x288 with 1 Axes>"
      ]
     },
     "metadata": {
      "needs_background": "light"
     },
     "output_type": "display_data"
    }
   ],
   "source": [
    "plt.scatter(data3, [0]*data3.shape[0])"
   ]
  },
  {
   "cell_type": "code",
   "execution_count": 45,
   "metadata": {},
   "outputs": [
    {
     "data": {
      "text/plain": [
       "<matplotlib.collections.PathCollection at 0x144a05f0d68>"
      ]
     },
     "execution_count": 45,
     "metadata": {},
     "output_type": "execute_result"
    },
    {
     "data": {
      "image/png": "[encoded data removed]",
      "text/plain": [
       "<Figure size 432x288 with 1 Axes>"
      ]
     },
     "metadata": {
      "needs_background": "light"
     },
     "output_type": "display_data"
    }
   ],
   "source": [
    "plt.scatter(data4, [0]*data4.shape[0])"
   ]
  },
  {
   "cell_type": "code",
   "execution_count": 48,
   "metadata": {},
   "outputs": [
    {
     "data": {
      "text/plain": [
       "(array([  4.,  22.,  96., 228., 272., 226., 104.,  38.,   9.,   1.]),\n",
       " array([-6.48253468, -5.06373491, -3.64493515, -2.22613538, -0.80733562,\n",
       "         0.61146415,  2.03026392,  3.44906368,  4.86786345,  6.28666322,\n",
       "         7.70546298]),\n",
       " <a list of 10 Patch objects>)"
      ]
     },
     "execution_count": 48,
     "metadata": {},
     "output_type": "execute_result"
    },
    {
     "data": {
      "image/png": "[encoded data removed]",
      "text/plain": [
       "<Figure size 432x288 with 1 Axes>"
      ]
     },
     "metadata": {
      "needs_background": "light"
     },
     "output_type": "display_data"
    }
   ],
   "source": [
    "plt.hist(data1)"
   ]
  },
  {
   "cell_type": "code",
   "execution_count": 49,
   "metadata": {},
   "outputs": [
    {
     "data": {
      "text/plain": [
       "(array([107.,  99.,  91.,  87., 101., 100., 114., 102., 106.,  93.]),\n",
       " array([0.00321826, 0.10283781, 0.20245736, 0.3020769 , 0.40169645,\n",
       "        0.50131599, 0.60093554, 0.70055509, 0.80017463, 0.89979418,\n",
       "        0.99941373]),\n",
       " <a list of 10 Patch objects>)"
      ]
     },
     "execution_count": 49,
     "metadata": {},
     "output_type": "execute_result"
    },
    {
     "data": {
      "image/png": "[encoded data removed]",
      "text/plain": [
       "<Figure size 432x288 with 1 Axes>"
      ]
     },
     "metadata": {
      "needs_background": "light"
     },
     "output_type": "display_data"
    }
   ],
   "source": [
    "plt.hist(data2)"
   ]
  },
  {
   "cell_type": "code",
   "execution_count": 50,
   "metadata": {},
   "outputs": [
    {
     "data": {
      "text/plain": [
       "(array([  3.,   1.,   0.,   1.,  97., 492., 411.,   1.,   2.,   2.]),\n",
       " array([-2.44972169, -1.94398661, -1.43825153, -0.93251645, -0.42678137,\n",
       "         0.0789537 ,  0.58468878,  1.09042386,  1.59615894,  2.10189401,\n",
       "         2.60762909]),\n",
       " <a list of 10 Patch objects>)"
      ]
     },
     "execution_count": 50,
     "metadata": {},
     "output_type": "execute_result"
    },
    {
     "data": {
      "image/png": "[encoded data removed]",
      "text/plain": [
       "<Figure size 432x288 with 1 Axes>"
      ]
     },
     "metadata": {
      "needs_background": "light"
     },
     "output_type": "display_data"
    }
   ],
   "source": [
    "plt.hist(data3)"
   ]
  },
  {
   "cell_type": "code",
   "execution_count": 51,
   "metadata": {},
   "outputs": [
    {
     "data": {
      "text/plain": [
       "(array([ 12., 100., 314., 379., 271., 377., 384., 139.,  21.,   3.]),\n",
       " array([-9.67900036, -7.6005903 , -5.52218024, -3.44377018, -1.36536012,\n",
       "         0.71304994,  2.79146   ,  4.86987006,  6.94828012,  9.02669018,\n",
       "        11.10510024]),\n",
       " <a list of 10 Patch objects>)"
      ]
     },
     "execution_count": 51,
     "metadata": {},
     "output_type": "execute_result"
    },
    {
     "data": {
      "image/png": "[encoded data removed]",
      "text/plain": [
       "<Figure size 432x288 with 1 Axes>"
      ]
     },
     "metadata": {
      "needs_background": "light"
     },
     "output_type": "display_data"
    }
   ],
   "source": [
    "plt.hist(data4)"
   ]
  },
  {
   "cell_type": "markdown",
   "metadata": {},
   "source": [
    "# Observations\n",
    "1. Data1 - Gaussian Distribution\n",
    "   Data2 - Uniform Distrubution\n",
    "   Data3 - Mirrored Poisson Distrubution\n",
    "   Data 4  - BiModal Distrubution\n",
    "   \n",
    "2. Data1 - Mean, Variance\n",
    "   Data2 - Mean, EndPoints\n",
    "   Data3 - Mode, Median\n",
    "   Data4 - Mode"
   ]
  },
  {
   "cell_type": "raw",
   "metadata": {},
   "source": [
    "Estimate density distribution of both datasets and answer the following questions :\n",
    "1. What is the distribution of data1 and data2?\n",
    "2. What are the parameters of the distribution using MLE?"
   ]
  },
  {
   "cell_type": "markdown",
   "metadata": {},
   "source": [
    "Data1- Gaussian Distribution, Mean - 0.03866 , Variance - 3.83545 \n",
    "Data2 - Uniform, Max-0.999413 , Min - 0.0032182"
   ]
  },
  {
   "cell_type": "code",
   "execution_count": 79,
   "metadata": {},
   "outputs": [],
   "source": [
    "from scipy import stats \n",
    "import math"
   ]
  },
  {
   "cell_type": "code",
   "execution_count": 4,
   "metadata": {},
   "outputs": [],
   "source": [
    "# Observations"
   ]
  },
  {
   "cell_type": "raw",
   "metadata": {},
   "source": [
    "Assuming that data1 has been sampled from normal distribution with unknown mean and standard deviation of 2, calculate 95% confidence interval of data1_mean "
   ]
  },
  {
   "cell_type": "code",
   "execution_count": 81,
   "metadata": {},
   "outputs": [
    {
     "data": {
      "text/plain": [
       "31.622776601683793"
      ]
     },
     "execution_count": 81,
     "metadata": {},
     "output_type": "execute_result"
    }
   ],
   "source": []
  },
  {
   "cell_type": "code",
   "execution_count": 83,
   "metadata": {},
   "outputs": [],
   "source": [
    "conf_max = data1_mean + 1.96*(2/math.sqrt(1000))"
   ]
  },
  {
   "cell_type": "code",
   "execution_count": 85,
   "metadata": {},
   "outputs": [],
   "source": [
    "conf_min = data1_mean - 1.96*(2/math.sqrt(1000))"
   ]
  },
  {
   "cell_type": "code",
   "execution_count": 86,
   "metadata": {},
   "outputs": [
    {
     "data": {
      "text/plain": [
       "0.16262539592325143"
      ]
     },
     "execution_count": 86,
     "metadata": {},
     "output_type": "execute_result"
    }
   ],
   "source": [
    "conf_max"
   ]
  },
  {
   "cell_type": "code",
   "execution_count": 87,
   "metadata": {},
   "outputs": [
    {
     "data": {
      "text/plain": [
       "-0.08529717263394948"
      ]
     },
     "execution_count": 87,
     "metadata": {},
     "output_type": "execute_result"
    }
   ],
   "source": [
    "conf_min"
   ]
  },
  {
   "cell_type": "code",
   "execution_count": 88,
   "metadata": {},
   "outputs": [
    {
     "data": {
      "text/plain": [
       "0.03866411164465098"
      ]
     },
     "execution_count": 88,
     "metadata": {},
     "output_type": "execute_result"
    }
   ],
   "source": [
    "data1_mean"
   ]
  },
  {
   "cell_type": "markdown",
   "metadata": {},
   "source": [
    "### Exercise"
   ]
  },
  {
   "cell_type": "raw",
   "metadata": {},
   "source": [
    "Is the dataset data5.txt from a guassian distribution?"
   ]
  },
  {
   "cell_type": "code",
   "execution_count": 90,
   "metadata": {},
   "outputs": [
    {
     "data": {
      "text/plain": [
       "<matplotlib.collections.PathCollection at 0x144a13d6438>"
      ]
     },
     "execution_count": 90,
     "metadata": {},
     "output_type": "execute_result"
    },
    {
     "data": {
      "image/png": "[encoded data removed]",
      "text/plain": [
       "<Figure size 432x288 with 1 Axes>"
      ]
     },
     "metadata": {
      "needs_background": "light"
     },
     "output_type": "display_data"
    }
   ],
   "source": [
    "plt.scatter(data5, [0]*data5.shape[0])"
   ]
  },
  {
   "cell_type": "code",
   "execution_count": 114,
   "metadata": {},
   "outputs": [
    {
     "data": {
      "text/plain": [
       "(array([  79.,   55.,   67.,   71.,   61.,   56.,   50.,   70.,   55.,\n",
       "          65.,   63.,   59.,   72.,   59.,   74.,   50.,   61.,   82.,\n",
       "          52.,   72.,   66.,   76.,   70.,   69.,   94.,   69.,   70.,\n",
       "          77.,   72.,   63.,   77.,   73.,   76.,   58.,   71.,   80.,\n",
       "          57.,   76.,   72.,   83.,   78.,   71.,   71.,   67.,   80.,\n",
       "          75.,   75.,   63.,   69.,   74.,   71.,   78.,   70.,   81.,\n",
       "          84.,   77.,   93.,   90.,   72.,   66.,   75.,   62.,   81.,\n",
       "          78.,   86.,   83.,   85.,   93.,   63.,   77.,   73.,   86.,\n",
       "          76.,   71.,  107.,   67.,   96.,   68.,   79.,   90.,   96.,\n",
       "          93.,   88.,   86.,  116.,   92.,   92.,  105.,   74.,   78.,\n",
       "          97.,   97.,   89.,  118.,   92.,  104.,   92.,   87.,   98.,\n",
       "         103.,  115.,   90.,   99.,   98.,   93.,   94.,  102.,   92.,\n",
       "          93.,  104.,   98.,  101.,  111.,  102.,  120.,  114.,  106.,\n",
       "         109.,  101.,  121.,  109.,  113.,  127.,  110.,  127.,  124.,\n",
       "         111.,  126.,  106.,  138.,  106.,  119.,  121.,   94.,  108.,\n",
       "         133.,  109.,  117.,  122.,  128.,  133.,  146.,  124.,  133.,\n",
       "         114.,  127.,  129.,  106.,  120.,  120.,  136.,  138.,  137.,\n",
       "         133.,  154.,  155.,  149.,  152.,  124.,  134.,  126.,  152.,\n",
       "         159.,  136.,  134.,  133.,  133.,  151.,  145.,  126.,  150.,\n",
       "         124.,  150.,  145.,  161.,  167.,  140.,  149.,  127.,  157.,\n",
       "         130.,  141.,  142.,  165.,  185.,  144.,  175.,  157.,  167.,\n",
       "         176.,  186.,  148.,  147.,  189.,  161.,  175.,  185.,  152.,\n",
       "         162.,  180.,  177.,  198.,  191.,  160.,  182.,  178.,  186.,\n",
       "         191.,  186.,  189.,  187.,  187.,  174.,  195.,  209.,  201.,\n",
       "         197.,  201.,  205.,  230.,  190.,  219.,  201.,  196.,  229.,\n",
       "         200.,  196.,  197.,  194.,  195.,  194.,  228.,  227.,  238.,\n",
       "         219.,  200.,  214.,  230.,  221.,  226.,  230.,  208.,  243.,\n",
       "         220.,  223.,  256.,  240.,  224.,  241.,  236.,  249.,  242.,\n",
       "         268.,  242.,  263.,  288.,  235.,  245.,  270.,  274.,  279.,\n",
       "         253.,  257.,  259.,  272.,  265.,  303.,  243.,  267.,  299.,\n",
       "         287.,  289.,  275.,  310.,  303.,  314.,  320.,  311.,  324.,\n",
       "         312.,  303.,  272.,  320.,  317.,  347.,  335.,  329.,  347.,\n",
       "         315.,  330.,  354.,  379.,  336.,  365.,  367.,  364.,  369.,\n",
       "         372.,  359.,  373.,  383.,  360.,  354.,  393.,  403.,  371.,\n",
       "         374.,  419.,  439.,  409.,  415.,  419.,  411.,  395.,  460.,\n",
       "         403.,  399.,  457.,  474.,  435.,  471.,  419.,  464.,  478.,\n",
       "         480.,  483.,  471.,  501.,  515.,  487.,  522.,  508.,  538.,\n",
       "         534.,  518.,  563.,  576.,  537.,  558.,  544.,  633.,  616.,\n",
       "         603.,  591.,  601.,  608.,  590.,  637.,  648.,  617.,  678.,\n",
       "         668.,  630.,  685.,  650.,  669.,  662.,  678.,  659.,  683.,\n",
       "         735.,  707.,  734.,  777.,  737.,  754.,  760.,  860.,  775.,\n",
       "         762.,  793.,  852.,  893.,  842.,  862.,  853.,  873.,  942.,\n",
       "         899.,  925.,  960.,  950.,  958.,  961.,  991.,  994., 1082.,\n",
       "        1057., 1106., 1074., 1123., 1088., 1138., 1102., 1197., 1175.,\n",
       "        1168., 1262., 1248., 1284., 1322., 1367., 1311., 1348., 1371.,\n",
       "        1401., 1422., 1423., 1529., 1475., 1472., 1540., 1601., 1575.,\n",
       "        1574., 1587., 1617., 1696., 1701., 1687., 1811., 1834., 1786.,\n",
       "        1949., 1958., 1908., 1957., 2177., 2236., 2126., 2167., 2268.,\n",
       "        2259., 2324., 2410., 2391., 2532., 2477., 2500., 2596., 2586.,\n",
       "        2680., 2729., 2820., 2833., 2869., 2974., 3053., 3164., 3188.,\n",
       "        3182., 3247., 3308., 3462., 3447., 3603., 3571., 3772., 3647.,\n",
       "        3868., 3899., 3943., 4143., 4201., 4220., 4226., 4319., 4550.,\n",
       "        4612., 4674., 4685., 4917., 4710., 4930., 5045., 5258., 5354.,\n",
       "        5357., 5431., 5425., 5561., 5545., 5680., 5654., 5795., 5892.,\n",
       "        5951., 6036., 5976., 5962., 6154., 6219., 6228., 6161., 6334.,\n",
       "        6348., 6281., 6235., 6369., 6335., 6233., 6421., 6249., 6318.,\n",
       "        6217., 6335., 6302., 6313., 6061., 6198., 6041., 5918., 6055.,\n",
       "        5917., 5920., 5754., 5785., 5715., 5645., 5564., 5346., 5327.,\n",
       "        5226., 5156., 5108., 5036., 4978., 4886., 4926., 4702., 4645.,\n",
       "        4518., 4435., 4390., 4373., 4334., 4076., 4045., 3896., 4045.,\n",
       "        3949., 3721., 3727., 3568., 3577., 3502., 3351., 3363., 3305.,\n",
       "        3215., 3163., 3084., 3007., 2983., 2869., 2907., 2822., 2708.,\n",
       "        2656., 2729., 2539., 2530., 2553., 2479., 2342., 2275., 2280.,\n",
       "        2294., 2172., 2171., 2162., 2029., 2076., 2022., 2032., 1987.,\n",
       "        1923., 1851., 1853., 1810., 1743., 1744., 1726., 1741., 1674.,\n",
       "        1607., 1685., 1620., 1496., 1486., 1465., 1446., 1373., 1355.,\n",
       "        1426., 1353., 1321., 1341., 1338., 1275., 1271., 1192., 1261.,\n",
       "        1242., 1159., 1168., 1231., 1139., 1130., 1154., 1127., 1046.,\n",
       "        1020., 1039., 1065., 1048.,  966.,  992.,  881.,  952.,  904.,\n",
       "         945.,  901.,  917.,  904.,  861.,  876.,  781.,  886.,  784.,\n",
       "         827.,  818.,  772.,  730.,  738.,  768.,  744.,  757.,  715.,\n",
       "         701.,  680.,  706.,  698.,  666.,  700.,  715.,  691.,  629.,\n",
       "         648.,  616.,  602.,  636.,  618.,  600.,  554.,  548.,  571.,\n",
       "         595.,  614.,  625.,  534.,  534.,  539.,  571.,  563.,  506.,\n",
       "         547.,  500.,  545.,  460.,  466.,  512.,  476.,  508.,  479.,\n",
       "         484.,  455.,  461.,  491.,  441.,  435.,  446.,  451.,  446.,\n",
       "         437.,  398.,  394.,  431.,  415.,  420.,  430.,  418.,  376.,\n",
       "         387.,  359.,  362.,  400.,  382.,  386.,  366.,  382.,  399.,\n",
       "         348.,  336.,  350.,  361.,  355.,  322.,  361.,  338.,  357.,\n",
       "         304.,  337.,  307.,  310.,  304.,  323.,  301.,  324.,  315.,\n",
       "         307.,  286.,  303.,  321.,  295.,  320.,  289.,  307.,  293.,\n",
       "         296.,  283.,  286.,  282.,  255.,  304.,  273.,  270.,  262.,\n",
       "         261.,  276.,  251.,  300.,  260.,  282.,  247.,  225.,  221.,\n",
       "         233.,  248.,  275.,  233.,  276.,  257.,  239.,  228.,  253.,\n",
       "         221.,  237.,  236.,  221.,  199.,  226.,  208.,  232.,  224.,\n",
       "         224.,  213.,  229.,  223.,  230.,  209.,  210.,  198.,  226.,\n",
       "         215.,  212.,  208.,  206.,  207.,  168.,  181.,  191.,  220.,\n",
       "         173.,  210.,  191.,  178.,  190.,  185.,  189.,  185.,  176.,\n",
       "         173.,  187.,  159.,  194.,  190.,  168.,  174.,  172.,  171.,\n",
       "         179.,  161.,  169.,  170.,  191.,  179.,  161.,  148.,  197.,\n",
       "         158.,  152.,  164.,  147.,  145.,  161.,  164.,  145.,  145.,\n",
       "         176.,  140.,  123.,  160.,  165.,  125.,  147.,  157.,  117.,\n",
       "         147.,  140.,  127.,  104.,  144.,  149.,  163.,  148.,  146.,\n",
       "         117.,  136.,  136.,  128.,  132.,  129.,  133.,  126.,  130.,\n",
       "         116.,  116.,  126.,  143.,  121.,  142.,  123.,  135.,  128.,\n",
       "         117.,  122.,  132.,  128.,  143.,  140.,  103.,  125.,  120.,\n",
       "         101.,  121.,  109.,  134.,   98.,  110.,  107.,  113.,  109.,\n",
       "         119.,  102.,  105.,  109.,   86.,   96.,  126.,  106.,  117.,\n",
       "         113.,   97.,  126.,  103.,   95.,   74.,  115.,   96.,   94.,\n",
       "         114.,  106.,  103.,  104.,  103.,  119.,  109.,  106.,   97.,\n",
       "         112.,  106.,  100.,   92.,   90.,   88.,  109.,   99.,   91.,\n",
       "          87.,  121.,   82.,  100.,   99.,   93.,   82.,  103.,   85.,\n",
       "          71.,   70.,   87.,   75.,   92.,  102.,   82.,   67.,   93.,\n",
       "         107.,   95.,  101.,   97.,   84.,   94.,   81.,   74.,   83.,\n",
       "          82.,   81.,   73.,   88.,   80.,   87.,  102.,   89.,  106.,\n",
       "          77.,   84.,   68.,   86.,   86.,   70.,   64.,   63.,   89.,\n",
       "          82.,   69.,   80.,   66.,   72.,   86.,   78.,   74.,   74.,\n",
       "          70.,   74.,   68.,   74.,   74.,   72.,   66.,   71.,   66.,\n",
       "          67.,   66.,   78.,   59.,   60.,   60.,   61.,   72.,   58.,\n",
       "          68.,   64.,   72.,   69.,   60.,   59.,   68.,   64.,   61.,\n",
       "          71.,   78.,   73.,   76.,   72.,   63.,   60.,   63.,   66.,\n",
       "          42.]),\n",
       " array([-10.  ,  -9.98,  -9.96, ...,   9.96,   9.98,  10.  ]),\n",
       " <a list of 1000 Patch objects>)"
      ]
     },
     "execution_count": 114,
     "metadata": {},
     "output_type": "execute_result"
    },
    {
     "data": {
      "image/png": "[encoded data removed]",
      "text/plain": [
       "<Figure size 432x288 with 1 Axes>"
      ]
     },
     "metadata": {
      "needs_background": "light"
     },
     "output_type": "display_data"
    }
   ],
   "source": [
    "plt.hist(data5, bins= 1000, range=(-10,10))"
   ]
  },
  {
   "cell_type": "code",
   "execution_count": 103,
   "metadata": {},
   "outputs": [
    {
     "data": {
      "text/plain": [
       "(array([2.299e+03, 2.080e+03, 2.018e+03, 1.805e+03, 1.717e+03, 1.655e+03,\n",
       "        1.506e+03, 1.417e+03, 1.315e+03, 1.264e+03, 1.222e+03, 1.188e+03,\n",
       "        1.061e+03, 1.020e+03, 9.660e+02, 1.013e+03, 9.200e+02, 8.290e+02,\n",
       "        8.570e+02, 7.940e+02, 8.200e+02, 7.000e+02, 7.100e+02, 6.270e+02,\n",
       "        6.140e+02, 6.550e+02, 5.730e+02, 5.850e+02, 5.440e+02, 5.580e+02,\n",
       "        5.380e+02, 5.710e+02, 4.920e+02, 4.570e+02, 4.160e+02, 4.460e+02,\n",
       "        4.270e+02, 3.880e+02, 3.920e+02, 3.820e+02, 3.720e+02, 3.790e+02,\n",
       "        3.700e+02, 3.490e+02, 3.470e+02, 3.110e+02, 3.320e+02, 2.750e+02,\n",
       "        3.190e+02, 3.050e+02, 2.460e+02, 2.680e+02, 3.020e+02, 2.570e+02,\n",
       "        2.520e+02, 2.400e+02, 2.410e+02, 2.490e+02, 2.460e+02, 2.300e+02,\n",
       "        2.310e+02, 2.500e+02, 1.960e+02, 1.910e+02, 1.900e+02, 2.040e+02,\n",
       "        2.130e+02, 2.010e+02, 1.850e+02, 1.720e+02, 2.070e+02, 1.720e+02,\n",
       "        1.900e+02, 1.910e+02, 1.560e+02, 1.700e+02, 1.620e+02, 1.390e+02,\n",
       "        1.350e+02, 1.540e+02, 1.610e+02, 1.370e+02, 1.430e+02, 1.450e+02,\n",
       "        1.410e+02, 1.390e+02, 1.170e+02, 1.320e+02, 1.410e+02, 1.300e+02,\n",
       "        1.160e+02, 9.900e+01, 1.130e+02, 1.140e+02, 1.160e+02, 1.380e+02,\n",
       "        1.170e+02, 1.100e+02, 1.080e+02, 1.000e+02, 1.060e+02, 9.000e+01,\n",
       "        1.160e+02, 1.040e+02, 1.010e+02, 8.800e+01, 8.800e+01, 8.700e+01,\n",
       "        9.600e+01, 1.000e+02, 8.900e+01, 9.500e+01, 8.700e+01, 8.500e+01,\n",
       "        8.100e+01, 8.600e+01, 7.300e+01, 7.700e+01, 8.700e+01, 7.300e+01,\n",
       "        7.100e+01, 8.100e+01, 7.900e+01, 8.200e+01, 6.100e+01, 6.800e+01,\n",
       "        8.200e+01, 6.700e+01, 7.400e+01, 6.300e+01, 6.600e+01, 7.200e+01,\n",
       "        6.900e+01, 7.900e+01, 6.000e+01, 6.300e+01, 7.000e+01, 6.200e+01,\n",
       "        5.500e+01, 5.500e+01, 6.100e+01, 6.000e+01, 6.700e+01, 5.300e+01,\n",
       "        6.000e+01, 6.800e+01, 5.100e+01, 4.000e+01, 4.900e+01, 5.700e+01,\n",
       "        4.600e+01, 5.800e+01, 6.400e+01, 5.000e+01, 4.700e+01, 6.300e+01,\n",
       "        5.700e+01, 4.700e+01, 4.800e+01, 4.800e+01, 3.400e+01, 5.800e+01,\n",
       "        5.500e+01, 4.400e+01, 3.600e+01, 5.200e+01, 5.800e+01, 4.500e+01,\n",
       "        4.300e+01, 5.000e+01, 5.200e+01, 4.900e+01, 3.900e+01, 3.600e+01,\n",
       "        4.200e+01, 4.600e+01, 5.000e+01, 4.500e+01, 5.400e+01, 4.200e+01,\n",
       "        3.400e+01, 3.000e+01, 3.700e+01, 3.300e+01, 4.000e+01, 4.500e+01,\n",
       "        4.800e+01, 4.500e+01, 3.300e+01, 4.200e+01, 3.200e+01, 3.400e+01,\n",
       "        3.300e+01, 4.600e+01, 3.900e+01, 4.400e+01, 2.300e+01, 4.500e+01,\n",
       "        3.900e+01, 4.600e+01, 3.400e+01, 3.500e+01, 2.000e+01, 3.200e+01,\n",
       "        4.100e+01, 4.200e+01, 2.400e+01, 2.800e+01, 4.000e+01, 2.600e+01,\n",
       "        2.800e+01, 2.900e+01, 2.300e+01, 2.900e+01, 2.500e+01, 2.400e+01,\n",
       "        2.500e+01, 1.700e+01, 2.500e+01, 3.400e+01, 2.500e+01, 2.900e+01,\n",
       "        3.200e+01, 2.400e+01, 2.500e+01, 1.900e+01, 3.300e+01, 1.800e+01,\n",
       "        2.600e+01, 1.500e+01, 2.200e+01, 2.100e+01, 1.900e+01, 2.800e+01,\n",
       "        2.400e+01, 2.100e+01, 2.200e+01, 2.000e+01, 2.800e+01, 3.200e+01,\n",
       "        2.800e+01, 3.300e+01, 2.700e+01, 2.100e+01, 2.300e+01, 2.900e+01,\n",
       "        2.800e+01, 2.000e+01, 2.400e+01, 1.900e+01, 2.000e+01, 1.900e+01,\n",
       "        1.600e+01, 2.100e+01, 2.400e+01, 1.900e+01, 1.000e+01, 2.000e+01,\n",
       "        1.700e+01, 2.000e+01, 1.400e+01, 1.800e+01, 1.800e+01, 1.600e+01,\n",
       "        2.200e+01, 2.100e+01, 1.800e+01, 1.600e+01, 2.100e+01, 1.200e+01,\n",
       "        2.000e+01, 1.400e+01, 1.200e+01, 2.400e+01, 1.700e+01, 1.900e+01,\n",
       "        2.000e+01, 1.900e+01, 1.900e+01, 1.600e+01, 2.400e+01, 2.700e+01,\n",
       "        1.900e+01, 1.500e+01, 2.300e+01, 2.200e+01, 1.600e+01, 1.800e+01,\n",
       "        2.300e+01, 1.500e+01, 1.800e+01, 1.500e+01, 1.400e+01, 1.200e+01,\n",
       "        1.600e+01, 1.500e+01, 1.400e+01, 1.300e+01, 1.000e+01, 1.200e+01,\n",
       "        2.000e+01, 1.500e+01, 2.400e+01, 1.100e+01, 1.700e+01, 1.500e+01,\n",
       "        1.200e+01, 2.400e+01, 1.400e+01, 1.100e+01, 8.000e+00, 1.500e+01,\n",
       "        1.500e+01, 1.700e+01, 1.100e+01, 1.100e+01, 1.700e+01, 1.800e+01,\n",
       "        1.900e+01, 1.500e+01, 1.500e+01, 9.000e+00, 1.000e+01, 1.000e+01,\n",
       "        1.700e+01, 1.300e+01, 1.200e+01, 2.100e+01, 1.300e+01, 1.800e+01,\n",
       "        1.600e+01, 1.200e+01, 9.000e+00, 1.500e+01, 1.400e+01, 1.500e+01,\n",
       "        2.000e+01, 1.200e+01, 6.000e+00, 7.000e+00, 6.000e+00, 8.000e+00,\n",
       "        7.000e+00, 1.400e+01, 1.500e+01, 7.000e+00, 1.800e+01, 9.000e+00,\n",
       "        1.500e+01, 1.300e+01, 1.600e+01, 6.000e+00, 9.000e+00, 3.000e+00,\n",
       "        1.100e+01, 7.000e+00, 1.100e+01, 1.000e+01, 7.000e+00, 1.300e+01,\n",
       "        1.300e+01, 8.000e+00, 1.800e+01, 8.000e+00, 1.600e+01, 8.000e+00,\n",
       "        1.200e+01, 8.000e+00, 7.000e+00, 1.000e+01, 8.000e+00, 1.000e+01,\n",
       "        8.000e+00, 1.200e+01, 1.400e+01, 1.100e+01, 7.000e+00, 1.100e+01,\n",
       "        1.300e+01, 1.800e+01, 1.100e+01, 1.100e+01, 1.000e+01, 1.500e+01,\n",
       "        1.300e+01, 6.000e+00, 5.000e+00, 1.100e+01, 8.000e+00, 1.000e+01,\n",
       "        1.300e+01, 1.700e+01, 7.000e+00, 1.300e+01, 1.300e+01, 1.700e+01,\n",
       "        8.000e+00, 9.000e+00, 1.100e+01, 8.000e+00, 4.000e+00, 1.200e+01,\n",
       "        6.000e+00, 1.000e+01, 1.100e+01, 1.300e+01, 1.100e+01, 8.000e+00,\n",
       "        1.000e+01, 9.000e+00, 7.000e+00, 1.100e+01, 6.000e+00, 7.000e+00,\n",
       "        5.000e+00, 7.000e+00, 6.000e+00, 7.000e+00, 9.000e+00, 8.000e+00,\n",
       "        1.000e+01, 7.000e+00, 6.000e+00, 6.000e+00, 7.000e+00, 1.100e+01,\n",
       "        7.000e+00, 6.000e+00, 6.000e+00, 2.000e+00, 1.000e+01, 6.000e+00,\n",
       "        8.000e+00, 1.000e+01, 6.000e+00, 1.000e+01, 8.000e+00, 1.200e+01,\n",
       "        8.000e+00, 1.000e+01, 7.000e+00, 1.000e+01, 1.000e+01, 7.000e+00,\n",
       "        6.000e+00, 8.000e+00, 1.300e+01, 4.000e+00, 6.000e+00, 8.000e+00,\n",
       "        6.000e+00, 1.100e+01, 6.000e+00, 7.000e+00, 8.000e+00, 4.000e+00,\n",
       "        8.000e+00, 5.000e+00, 2.000e+00, 8.000e+00, 6.000e+00, 1.000e+01,\n",
       "        8.000e+00, 8.000e+00, 7.000e+00, 6.000e+00, 6.000e+00, 6.000e+00,\n",
       "        4.000e+00, 4.000e+00, 1.100e+01, 5.000e+00, 6.000e+00, 3.000e+00,\n",
       "        7.000e+00, 4.000e+00, 8.000e+00, 7.000e+00, 5.000e+00, 8.000e+00,\n",
       "        1.200e+01, 5.000e+00, 7.000e+00, 7.000e+00, 8.000e+00, 4.000e+00,\n",
       "        8.000e+00, 6.000e+00, 4.000e+00, 3.000e+00, 1.100e+01, 5.000e+00,\n",
       "        3.000e+00, 6.000e+00, 4.000e+00, 5.000e+00, 5.000e+00, 9.000e+00,\n",
       "        8.000e+00, 8.000e+00]),\n",
       " array([  5.  ,   5.19,   5.38,   5.57,   5.76,   5.95,   6.14,   6.33,\n",
       "          6.52,   6.71,   6.9 ,   7.09,   7.28,   7.47,   7.66,   7.85,\n",
       "          8.04,   8.23,   8.42,   8.61,   8.8 ,   8.99,   9.18,   9.37,\n",
       "          9.56,   9.75,   9.94,  10.13,  10.32,  10.51,  10.7 ,  10.89,\n",
       "         11.08,  11.27,  11.46,  11.65,  11.84,  12.03,  12.22,  12.41,\n",
       "         12.6 ,  12.79,  12.98,  13.17,  13.36,  13.55,  13.74,  13.93,\n",
       "         14.12,  14.31,  14.5 ,  14.69,  14.88,  15.07,  15.26,  15.45,\n",
       "         15.64,  15.83,  16.02,  16.21,  16.4 ,  16.59,  16.78,  16.97,\n",
       "         17.16,  17.35,  17.54,  17.73,  17.92,  18.11,  18.3 ,  18.49,\n",
       "         18.68,  18.87,  19.06,  19.25,  19.44,  19.63,  19.82,  20.01,\n",
       "         20.2 ,  20.39,  20.58,  20.77,  20.96,  21.15,  21.34,  21.53,\n",
       "         21.72,  21.91,  22.1 ,  22.29,  22.48,  22.67,  22.86,  23.05,\n",
       "         23.24,  23.43,  23.62,  23.81,  24.  ,  24.19,  24.38,  24.57,\n",
       "         24.76,  24.95,  25.14,  25.33,  25.52,  25.71,  25.9 ,  26.09,\n",
       "         26.28,  26.47,  26.66,  26.85,  27.04,  27.23,  27.42,  27.61,\n",
       "         27.8 ,  27.99,  28.18,  28.37,  28.56,  28.75,  28.94,  29.13,\n",
       "         29.32,  29.51,  29.7 ,  29.89,  30.08,  30.27,  30.46,  30.65,\n",
       "         30.84,  31.03,  31.22,  31.41,  31.6 ,  31.79,  31.98,  32.17,\n",
       "         32.36,  32.55,  32.74,  32.93,  33.12,  33.31,  33.5 ,  33.69,\n",
       "         33.88,  34.07,  34.26,  34.45,  34.64,  34.83,  35.02,  35.21,\n",
       "         35.4 ,  35.59,  35.78,  35.97,  36.16,  36.35,  36.54,  36.73,\n",
       "         36.92,  37.11,  37.3 ,  37.49,  37.68,  37.87,  38.06,  38.25,\n",
       "         38.44,  38.63,  38.82,  39.01,  39.2 ,  39.39,  39.58,  39.77,\n",
       "         39.96,  40.15,  40.34,  40.53,  40.72,  40.91,  41.1 ,  41.29,\n",
       "         41.48,  41.67,  41.86,  42.05,  42.24,  42.43,  42.62,  42.81,\n",
       "         43.  ,  43.19,  43.38,  43.57,  43.76,  43.95,  44.14,  44.33,\n",
       "         44.52,  44.71,  44.9 ,  45.09,  45.28,  45.47,  45.66,  45.85,\n",
       "         46.04,  46.23,  46.42,  46.61,  46.8 ,  46.99,  47.18,  47.37,\n",
       "         47.56,  47.75,  47.94,  48.13,  48.32,  48.51,  48.7 ,  48.89,\n",
       "         49.08,  49.27,  49.46,  49.65,  49.84,  50.03,  50.22,  50.41,\n",
       "         50.6 ,  50.79,  50.98,  51.17,  51.36,  51.55,  51.74,  51.93,\n",
       "         52.12,  52.31,  52.5 ,  52.69,  52.88,  53.07,  53.26,  53.45,\n",
       "         53.64,  53.83,  54.02,  54.21,  54.4 ,  54.59,  54.78,  54.97,\n",
       "         55.16,  55.35,  55.54,  55.73,  55.92,  56.11,  56.3 ,  56.49,\n",
       "         56.68,  56.87,  57.06,  57.25,  57.44,  57.63,  57.82,  58.01,\n",
       "         58.2 ,  58.39,  58.58,  58.77,  58.96,  59.15,  59.34,  59.53,\n",
       "         59.72,  59.91,  60.1 ,  60.29,  60.48,  60.67,  60.86,  61.05,\n",
       "         61.24,  61.43,  61.62,  61.81,  62.  ,  62.19,  62.38,  62.57,\n",
       "         62.76,  62.95,  63.14,  63.33,  63.52,  63.71,  63.9 ,  64.09,\n",
       "         64.28,  64.47,  64.66,  64.85,  65.04,  65.23,  65.42,  65.61,\n",
       "         65.8 ,  65.99,  66.18,  66.37,  66.56,  66.75,  66.94,  67.13,\n",
       "         67.32,  67.51,  67.7 ,  67.89,  68.08,  68.27,  68.46,  68.65,\n",
       "         68.84,  69.03,  69.22,  69.41,  69.6 ,  69.79,  69.98,  70.17,\n",
       "         70.36,  70.55,  70.74,  70.93,  71.12,  71.31,  71.5 ,  71.69,\n",
       "         71.88,  72.07,  72.26,  72.45,  72.64,  72.83,  73.02,  73.21,\n",
       "         73.4 ,  73.59,  73.78,  73.97,  74.16,  74.35,  74.54,  74.73,\n",
       "         74.92,  75.11,  75.3 ,  75.49,  75.68,  75.87,  76.06,  76.25,\n",
       "         76.44,  76.63,  76.82,  77.01,  77.2 ,  77.39,  77.58,  77.77,\n",
       "         77.96,  78.15,  78.34,  78.53,  78.72,  78.91,  79.1 ,  79.29,\n",
       "         79.48,  79.67,  79.86,  80.05,  80.24,  80.43,  80.62,  80.81,\n",
       "         81.  ,  81.19,  81.38,  81.57,  81.76,  81.95,  82.14,  82.33,\n",
       "         82.52,  82.71,  82.9 ,  83.09,  83.28,  83.47,  83.66,  83.85,\n",
       "         84.04,  84.23,  84.42,  84.61,  84.8 ,  84.99,  85.18,  85.37,\n",
       "         85.56,  85.75,  85.94,  86.13,  86.32,  86.51,  86.7 ,  86.89,\n",
       "         87.08,  87.27,  87.46,  87.65,  87.84,  88.03,  88.22,  88.41,\n",
       "         88.6 ,  88.79,  88.98,  89.17,  89.36,  89.55,  89.74,  89.93,\n",
       "         90.12,  90.31,  90.5 ,  90.69,  90.88,  91.07,  91.26,  91.45,\n",
       "         91.64,  91.83,  92.02,  92.21,  92.4 ,  92.59,  92.78,  92.97,\n",
       "         93.16,  93.35,  93.54,  93.73,  93.92,  94.11,  94.3 ,  94.49,\n",
       "         94.68,  94.87,  95.06,  95.25,  95.44,  95.63,  95.82,  96.01,\n",
       "         96.2 ,  96.39,  96.58,  96.77,  96.96,  97.15,  97.34,  97.53,\n",
       "         97.72,  97.91,  98.1 ,  98.29,  98.48,  98.67,  98.86,  99.05,\n",
       "         99.24,  99.43,  99.62,  99.81, 100.  ]),\n",
       " <a list of 500 Patch objects>)"
      ]
     },
     "execution_count": 103,
     "metadata": {},
     "output_type": "execute_result"
    },
    {
     "data": {
      "image/png": "[encoded data removed]",
      "text/plain": [
       "<Figure size 432x288 with 1 Axes>"
      ]
     },
     "metadata": {
      "needs_background": "light"
     },
     "output_type": "display_data"
    }
   ],
   "source": [
    "plt.hist(data5, bins= 500, range=(5,100))\n",
    "\n"
   ]
  },
  {
   "cell_type": "markdown",
   "metadata": {},
   "source": [
    "The above curve is definetely not Gaussian as the mean doesn't seem to converge to zero inspite of the graph showing it. The peak is also very sharp to defend my point.\n"
   ]
  },
  {
   "cell_type": "markdown",
   "metadata": {},
   "source": [
    "### Feature visualisation and selection"
   ]
  },
  {
   "cell_type": "raw",
   "metadata": {},
   "source": [
    "Load the twodimdata.csv file. Comment on the following :\n",
    "1. Are the features independent, why?\n",
    "2. Can a feature be removed?"
   ]
  },
  {
   "cell_type": "code",
   "execution_count": 110,
   "metadata": {},
   "outputs": [],
   "source": [
    "import pandas as pd\n",
    "df = pd.read_csv(\"twodimdata.csv\")"
   ]
  },
  {
   "cell_type": "code",
   "execution_count": 128,
   "metadata": {},
   "outputs": [
    {
     "data": {
      "text/plain": [
       "<matplotlib.collections.PathCollection at 0x144a139e908>"
      ]
     },
     "execution_count": 128,
     "metadata": {},
     "output_type": "execute_result"
    },
    {
     "data": {
      "image/png": "[encoded data removed]",
      "text/plain": [
       "<Figure size 432x288 with 1 Axes>"
      ]
     },
     "metadata": {
      "needs_background": "light"
     },
     "output_type": "display_data"
    }
   ],
   "source": [
    "plt.scatter(df.x1,df.x2)"
   ]
  },
  {
   "cell_type": "code",
   "execution_count": 129,
   "metadata": {},
   "outputs": [
    {
     "data": {
      "text/plain": [
       "(array([   7.,   77.,  521., 1635., 2850., 2858., 1505.,  468.,   74.,\n",
       "           5.]),\n",
       " array([-7.85644179, -6.27176782, -4.68709384, -3.10241987, -1.51774589,\n",
       "         0.06692808,  1.65160206,  3.23627603,  4.82095001,  6.40562398,\n",
       "         7.99029796]),\n",
       " <a list of 10 Patch objects>)"
      ]
     },
     "execution_count": 129,
     "metadata": {},
     "output_type": "execute_result"
    },
    {
     "data": {
      "image/png": "[encoded data removed]",
      "text/plain": [
       "<Figure size 432x288 with 1 Axes>"
      ]
     },
     "metadata": {
      "needs_background": "light"
     },
     "output_type": "display_data"
    }
   ],
   "source": [
    "plt.hist(df.x1)"
   ]
  },
  {
   "cell_type": "code",
   "execution_count": 130,
   "metadata": {},
   "outputs": [
    {
     "data": {
      "text/plain": [
       "(array([  16.,  152.,  653., 1624., 2528., 2600., 1659.,  610.,  126.,\n",
       "          32.]),\n",
       " array([-3.49819014e-03, -2.79454476e-03, -2.09089938e-03, -1.38725400e-03,\n",
       "        -6.83608616e-04,  2.00367653e-05,  7.23682147e-04,  1.42732753e-03,\n",
       "         2.13097291e-03,  2.83461829e-03,  3.53826367e-03]),\n",
       " <a list of 10 Patch objects>)"
      ]
     },
     "execution_count": 130,
     "metadata": {},
     "output_type": "execute_result"
    },
    {
     "data": {
      "image/png": "[encoded data removed]",
      "text/plain": [
       "<Figure size 432x288 with 1 Axes>"
      ]
     },
     "metadata": {
      "needs_background": "light"
     },
     "output_type": "display_data"
    }
   ],
   "source": [
    "plt.hist(df.x2)"
   ]
  },
  {
   "cell_type": "code",
   "execution_count": 113,
   "metadata": {},
   "outputs": [
    {
     "data": {
      "text/html": [
       "<div>\n",
       "<style scoped>\n",
       "    .dataframe tbody tr th:only-of-type {\n",
       "        vertical-align: middle;\n",
       "    }\n",
       "\n",
       "    .dataframe tbody tr th {\n",
       "        vertical-align: top;\n",
       "    }\n",
       "\n",
       "    .dataframe thead th {\n",
       "        text-align: right;\n",
       "    }\n",
       "</style>\n",
       "<table border=\"1\" class=\"dataframe\">\n",
       "  <thead>\n",
       "    <tr style=\"text-align: right;\">\n",
       "      <th></th>\n",
       "      <th>x1</th>\n",
       "      <th>x2</th>\n",
       "    </tr>\n",
       "  </thead>\n",
       "  <tbody>\n",
       "    <tr>\n",
       "      <th>x1</th>\n",
       "      <td>1.000000</td>\n",
       "      <td>-0.002033</td>\n",
       "    </tr>\n",
       "    <tr>\n",
       "      <th>x2</th>\n",
       "      <td>-0.002033</td>\n",
       "      <td>1.000000</td>\n",
       "    </tr>\n",
       "  </tbody>\n",
       "</table>\n",
       "</div>"
      ],
      "text/plain": [
       "          x1        x2\n",
       "x1  1.000000 -0.002033\n",
       "x2 -0.002033  1.000000"
      ]
     },
     "execution_count": 113,
     "metadata": {},
     "output_type": "execute_result"
    }
   ],
   "source": [
    "df.corr()"
   ]
  },
  {
   "cell_type": "markdown",
   "metadata": {},
   "source": [
    "They are independent as correlation is almost zero. No feature can be removed from the data."
   ]
  },
  {
   "cell_type": "code",
   "execution_count": null,
   "metadata": {},
   "outputs": [],
   "source": []
  }
 ],
 "metadata": {
  "kernelspec": {
   "display_name": "Python 3",
   "language": "python",
   "name": "python3"
  },
  "language_info": {
   "codemirror_mode": {
    "name": "ipython",
    "version": 3
   },
   "file_extension": ".py",
   "mimetype": "text/x-python",
   "name": "python",
   "nbconvert_exporter": "python",
   "pygments_lexer": "ipython3",
   "version": "3.7.3"
  }
 },
 "nbformat": 4,
 "nbformat_minor": 2
}
