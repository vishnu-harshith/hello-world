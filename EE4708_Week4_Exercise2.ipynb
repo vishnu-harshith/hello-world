{
 "cells": [
  {
   "cell_type": "markdown",
   "metadata": {},
   "source": [
    "## Project Goal\n",
    "The goal of this exercise is to analyze a dataset consisting of information from 400 credit card holders and predict the average credit card balance of a given individual. Such an exercise could be conducted as part of a customer analysis within a credit card company. The results of the analysis could determine which customers present a risk of credit default, or what the expected consumer behavior of prospective customers will be. \n",
    "\n",
    "Dataset : \"Credit.csv\"\n",
    "\n",
    "\n"
   ]
  },
  {
   "cell_type": "markdown",
   "metadata": {},
   "source": [
    "### Dataset description\n",
    "The dataset has 400 observations with the following variables:\n",
    "- ID : Identification\n",
    "- Income : Income in \\\\$1,00,000\n",
    "- Limit : credit limit\n",
    "- Rating : credit rating\n",
    "- Cards : number of cards\n",
    "- Age : age in years\n",
    "- Education : number of years of education\n",
    "- Gender : Male or Female\n",
    "- Student : Yes or No\n",
    "- Married : Yes or No\n",
    "- Ethnicity : African American, Asian or Caucasian\n",
    "- Balance : average monthly credit card balance across all cards owned by the customer in $\n",
    "\n"
   ]
  },
  {
   "cell_type": "code",
   "execution_count": 2,
   "metadata": {},
   "outputs": [],
   "source": [
    "import pandas as pd\n",
    "import numpy as np\n",
    "import sklearn\n",
    "from numpy import argmax\n",
    "from sklearn.preprocessing import LabelEncoder\n",
    "from sklearn.preprocessing import OneHotEncoder"
   ]
  },
  {
   "cell_type": "markdown",
   "metadata": {},
   "source": [
    "#### Load and visualize the dataset."
   ]
  },
  {
   "cell_type": "code",
   "execution_count": 3,
   "metadata": {},
   "outputs": [
    {
     "data": {
      "text/plain": [
       "Caucasian           199\n",
       "Asian               102\n",
       "African American     99\n",
       "Name: Ethnicity, dtype: int64"
      ]
     },
     "execution_count": 3,
     "metadata": {},
     "output_type": "execute_result"
    }
   ],
   "source": [
    "df = pd.read_csv(\"Credit.csv\")\n",
    "df['Ethnicity'].value_counts()"
   ]
  },
  {
   "cell_type": "code",
   "execution_count": 4,
   "metadata": {},
   "outputs": [
    {
     "data": {
      "text/plain": [
       "Unnamed: 0    0\n",
       "ID            0\n",
       "Income        0\n",
       "Limit         0\n",
       "Rating        0\n",
       "Cards         0\n",
       "Age           0\n",
       "Education     0\n",
       "Gender        0\n",
       "Student       0\n",
       "Married       0\n",
       "Ethnicity     0\n",
       "Balance       0\n",
       "dtype: int64"
      ]
     },
     "execution_count": 4,
     "metadata": {},
     "output_type": "execute_result"
    }
   ],
   "source": [
    "df.isnull().sum()"
   ]
  },
  {
   "cell_type": "markdown",
   "metadata": {},
   "source": [
    "#### Explore various encoding methodologies for categorical variables. (One-Hot and Binary encoding)."
   ]
  },
  {
   "cell_type": "code",
   "execution_count": 5,
   "metadata": {},
   "outputs": [
    {
     "name": "stdout",
     "output_type": "stream",
     "text": [
      "[2 1 1 1 2 2 0 1 2 0 2 2 1 2 0 0 0 1 1 1 1 2 0 0 2 0 2 0 0 2 2 1 2 2 1 2 2\n",
      " 2 2 2 0 0 1 1 2 2 1 2 1 0 0 0 2 1 1 1 1 2 2 2 1 2 2 2 0 2 1 0 2 2 2 1 1 2\n",
      " 2 0 2 1 2 1 2 2 2 2 2 1 2 1 0 0 0 2 2 0 0 0 1 0 0 2 2 2 2 2 2 2 1 1 2 1 1\n",
      " 0 2 1 2 0 2 1 2 2 1 2 2 0 2 2 1 2 0 0 0 1 0 0 0 0 0 1 2 0 0 2 1 0 2 1 2 2\n",
      " 2 1 0 2 2 2 0 1 2 2 1 1 2 2 2 0 1 2 0 2 1 2 1 2 1 0 0 2 2 1 2 2 1 0 0 1 2\n",
      " 0 0 1 0 2 2 1 1 2 0 0 0 0 0 1 0 2 2 0 2 2 2 2 0 0 2 2 2 0 2 2 1 2 1 2 1 0\n",
      " 2 1 2 1 2 2 0 1 0 2 1 2 0 0 1 1 2 1 1 0 1 2 2 0 1 2 2 2 1 2 2 0 2 0 1 1 2\n",
      " 2 1 1 2 0 2 0 2 1 2 2 2 2 1 1 0 2 2 2 2 2 0 0 2 2 2 1 2 2 1 2 1 2 2 0 1 2\n",
      " 2 1 0 0 2 2 2 0 1 1 2 1 1 2 0 2 2 1 0 2 1 2 2 0 0 2 2 2 1 2 2 1 2 2 1 2 2\n",
      " 0 2 2 2 0 2 0 0 2 0 2 1 2 1 2 2 1 2 2 0 2 1 0 2 1 2 0 2 1 0 2 1 2 2 0 2 2\n",
      " 2 2 2 2 2 2 0 2 2 2 0 2 2 2 0 1 0 1 2 2 1 2 1 0 2 2 0 2 2 1]\n"
     ]
    }
   ],
   "source": [
    "values = df['Ethnicity']\n",
    "label_encoder = LabelEncoder()\n",
    "integer_encoded = label_encoder.fit_transform(values)\n",
    "print(integer_encoded)"
   ]
  },
  {
   "cell_type": "code",
   "execution_count": 6,
   "metadata": {},
   "outputs": [
    {
     "name": "stderr",
     "output_type": "stream",
     "text": [
      "C:\\Users\\vishn\\Anaconda3\\lib\\site-packages\\sklearn\\preprocessing\\_encoders.py:415: FutureWarning: The handling of integer data will change in version 0.22. Currently, the categories are determined based on the range [0, max(values)], while in the future they will be determined based on the unique values.\n",
      "If you want the future behaviour and silence this warning, you can specify \"categories='auto'\".\n",
      "In case you used a LabelEncoder before this OneHotEncoder to convert the categories to integers, then you can now use the OneHotEncoder directly.\n",
      "  warnings.warn(msg, FutureWarning)\n"
     ]
    },
    {
     "name": "stdout",
     "output_type": "stream",
     "text": [
      "[[0. 0. 1.]\n",
      " [0. 1. 0.]\n",
      " [0. 1. 0.]\n",
      " ...\n",
      " [0. 0. 1.]\n",
      " [0. 0. 1.]\n",
      " [0. 1. 0.]]\n"
     ]
    }
   ],
   "source": [
    "onehot_encoder = OneHotEncoder(sparse=False)\n",
    "integer_encoded = integer_encoded.reshape(len(integer_encoded), 1)\n",
    "onehot_encoded = onehot_encoder.fit_transform(integer_encoded)\n",
    "print(onehot_encoded)"
   ]
  },
  {
   "cell_type": "code",
   "execution_count": 7,
   "metadata": {},
   "outputs": [],
   "source": [
    "enc_data = pd.get_dummies(df)"
   ]
  },
  {
   "cell_type": "code",
   "execution_count": 8,
   "metadata": {},
   "outputs": [
    {
     "data": {
      "text/html": [
       "<div>\n",
       "<style scoped>\n",
       "    .dataframe tbody tr th:only-of-type {\n",
       "        vertical-align: middle;\n",
       "    }\n",
       "\n",
       "    .dataframe tbody tr th {\n",
       "        vertical-align: top;\n",
       "    }\n",
       "\n",
       "    .dataframe thead th {\n",
       "        text-align: right;\n",
       "    }\n",
       "</style>\n",
       "<table border=\"1\" class=\"dataframe\">\n",
       "  <thead>\n",
       "    <tr style=\"text-align: right;\">\n",
       "      <th></th>\n",
       "      <th>Unnamed: 0</th>\n",
       "      <th>ID</th>\n",
       "      <th>Income</th>\n",
       "      <th>Limit</th>\n",
       "      <th>Rating</th>\n",
       "      <th>Cards</th>\n",
       "      <th>Age</th>\n",
       "      <th>Education</th>\n",
       "      <th>Balance</th>\n",
       "      <th>Gender_Female</th>\n",
       "      <th>Gender_Male</th>\n",
       "      <th>Student_No</th>\n",
       "      <th>Student_Yes</th>\n",
       "      <th>Married_No</th>\n",
       "      <th>Married_Yes</th>\n",
       "      <th>Ethnicity_African American</th>\n",
       "      <th>Ethnicity_Asian</th>\n",
       "      <th>Ethnicity_Caucasian</th>\n",
       "    </tr>\n",
       "  </thead>\n",
       "  <tbody>\n",
       "    <tr>\n",
       "      <th>0</th>\n",
       "      <td>1</td>\n",
       "      <td>1</td>\n",
       "      <td>14.891</td>\n",
       "      <td>3606</td>\n",
       "      <td>283</td>\n",
       "      <td>2</td>\n",
       "      <td>34</td>\n",
       "      <td>11</td>\n",
       "      <td>333</td>\n",
       "      <td>0</td>\n",
       "      <td>1</td>\n",
       "      <td>1</td>\n",
       "      <td>0</td>\n",
       "      <td>0</td>\n",
       "      <td>1</td>\n",
       "      <td>0</td>\n",
       "      <td>0</td>\n",
       "      <td>1</td>\n",
       "    </tr>\n",
       "    <tr>\n",
       "      <th>1</th>\n",
       "      <td>2</td>\n",
       "      <td>2</td>\n",
       "      <td>106.025</td>\n",
       "      <td>6645</td>\n",
       "      <td>483</td>\n",
       "      <td>3</td>\n",
       "      <td>82</td>\n",
       "      <td>15</td>\n",
       "      <td>903</td>\n",
       "      <td>1</td>\n",
       "      <td>0</td>\n",
       "      <td>0</td>\n",
       "      <td>1</td>\n",
       "      <td>0</td>\n",
       "      <td>1</td>\n",
       "      <td>0</td>\n",
       "      <td>1</td>\n",
       "      <td>0</td>\n",
       "    </tr>\n",
       "    <tr>\n",
       "      <th>2</th>\n",
       "      <td>3</td>\n",
       "      <td>3</td>\n",
       "      <td>104.593</td>\n",
       "      <td>7075</td>\n",
       "      <td>514</td>\n",
       "      <td>4</td>\n",
       "      <td>71</td>\n",
       "      <td>11</td>\n",
       "      <td>580</td>\n",
       "      <td>0</td>\n",
       "      <td>1</td>\n",
       "      <td>1</td>\n",
       "      <td>0</td>\n",
       "      <td>1</td>\n",
       "      <td>0</td>\n",
       "      <td>0</td>\n",
       "      <td>1</td>\n",
       "      <td>0</td>\n",
       "    </tr>\n",
       "    <tr>\n",
       "      <th>3</th>\n",
       "      <td>4</td>\n",
       "      <td>4</td>\n",
       "      <td>148.924</td>\n",
       "      <td>9504</td>\n",
       "      <td>681</td>\n",
       "      <td>3</td>\n",
       "      <td>36</td>\n",
       "      <td>11</td>\n",
       "      <td>964</td>\n",
       "      <td>1</td>\n",
       "      <td>0</td>\n",
       "      <td>1</td>\n",
       "      <td>0</td>\n",
       "      <td>1</td>\n",
       "      <td>0</td>\n",
       "      <td>0</td>\n",
       "      <td>1</td>\n",
       "      <td>0</td>\n",
       "    </tr>\n",
       "    <tr>\n",
       "      <th>4</th>\n",
       "      <td>5</td>\n",
       "      <td>5</td>\n",
       "      <td>55.882</td>\n",
       "      <td>4897</td>\n",
       "      <td>357</td>\n",
       "      <td>2</td>\n",
       "      <td>68</td>\n",
       "      <td>16</td>\n",
       "      <td>331</td>\n",
       "      <td>0</td>\n",
       "      <td>1</td>\n",
       "      <td>1</td>\n",
       "      <td>0</td>\n",
       "      <td>0</td>\n",
       "      <td>1</td>\n",
       "      <td>0</td>\n",
       "      <td>0</td>\n",
       "      <td>1</td>\n",
       "    </tr>\n",
       "  </tbody>\n",
       "</table>\n",
       "</div>"
      ],
      "text/plain": [
       "   Unnamed: 0  ID   Income  Limit  Rating  Cards  Age  Education  Balance  \\\n",
       "0           1   1   14.891   3606     283      2   34         11      333   \n",
       "1           2   2  106.025   6645     483      3   82         15      903   \n",
       "2           3   3  104.593   7075     514      4   71         11      580   \n",
       "3           4   4  148.924   9504     681      3   36         11      964   \n",
       "4           5   5   55.882   4897     357      2   68         16      331   \n",
       "\n",
       "   Gender_Female  Gender_Male  Student_No  Student_Yes  Married_No  \\\n",
       "0              0            1           1            0           0   \n",
       "1              1            0           0            1           0   \n",
       "2              0            1           1            0           1   \n",
       "3              1            0           1            0           1   \n",
       "4              0            1           1            0           0   \n",
       "\n",
       "   Married_Yes  Ethnicity_African American  Ethnicity_Asian  \\\n",
       "0            1                           0                0   \n",
       "1            1                           0                1   \n",
       "2            0                           0                1   \n",
       "3            0                           0                1   \n",
       "4            1                           0                0   \n",
       "\n",
       "   Ethnicity_Caucasian  \n",
       "0                    1  \n",
       "1                    0  \n",
       "2                    0  \n",
       "3                    0  \n",
       "4                    1  "
      ]
     },
     "execution_count": 8,
     "metadata": {},
     "output_type": "execute_result"
    }
   ],
   "source": [
    "enc_data.head()"
   ]
  },
  {
   "cell_type": "markdown",
   "metadata": {},
   "source": [
    "#### Center and standardize the data.\n",
    "- Why is centering (zero mean) and standardizing (unit variance) of data necessary? \n",
    "- Are the ridge regression and standard least squares coefficient estimates scale invariant? Here scale invariance implies that multiplying a predictor by a constant $c$   leads to scaling of coefficient estimates by a factor of 1/ $c$ . "
   ]
  },
  {
   "cell_type": "code",
   "execution_count": null,
   "metadata": {},
   "outputs": [],
   "source": []
  },
  {
   "cell_type": "markdown",
   "metadata": {},
   "source": [
    "#### Split dataset into training and validation set (80:20)"
   ]
  },
  {
   "cell_type": "code",
   "execution_count": 9,
   "metadata": {},
   "outputs": [],
   "source": [
    "pred = enc_data.drop(columns=['Balance','Gender_Female','Student_No','Married_No','ID','Unnamed: 0'])\n",
    "target = enc_data['Balance']"
   ]
  },
  {
   "cell_type": "code",
   "execution_count": 10,
   "metadata": {},
   "outputs": [],
   "source": [
    "# pred = sklearn.preprocessing.normalize(pred)"
   ]
  },
  {
   "cell_type": "code",
   "execution_count": 39,
   "metadata": {},
   "outputs": [
    {
     "data": {
      "text/plain": [
       "Index(['Income', 'Limit', 'Rating', 'Cards', 'Age', 'Education', 'Gender_Male',\n",
       "       'Student_Yes', 'Married_Yes', 'Ethnicity_African American',\n",
       "       'Ethnicity_Asian', 'Ethnicity_Caucasian'],\n",
       "      dtype='object')"
      ]
     },
     "execution_count": 39,
     "metadata": {},
     "output_type": "execute_result"
    }
   ],
   "source": [
    "pred.columns"
   ]
  },
  {
   "cell_type": "code",
   "execution_count": 12,
   "metadata": {},
   "outputs": [],
   "source": [
    "from sklearn import datasets, linear_model\n",
    "from sklearn.model_selection import train_test_split\n",
    "from matplotlib import pyplot as plt\n",
    "\n",
    "X_train, X_test, y_train, y_test = train_test_split(pred, target, test_size=0.2)\n",
    "# from sklearn.preprocessing import StandardScaler\n",
    "# feature_scaler = StandardScaler()\n",
    "# X_train = feature_scaler.fit_transform(X_train)\n",
    "# X_test = feature_scaler.transform(X_test)"
   ]
  },
  {
   "cell_type": "markdown",
   "metadata": {},
   "source": [
    "#### Use linear regression. \n",
    "- Report training and validation error. "
   ]
  },
  {
   "cell_type": "code",
   "execution_count": 13,
   "metadata": {},
   "outputs": [
    {
     "name": "stdout",
     "output_type": "stream",
     "text": [
      "Train Error:  9640.877325468298 \n",
      " Test Error:  9316.02266156083\n"
     ]
    },
    {
     "data": {
      "text/plain": [
       "0.9671856049785867"
      ]
     },
     "execution_count": 13,
     "metadata": {},
     "output_type": "execute_result"
    }
   ],
   "source": [
    "from sklearn.metrics import mean_squared_error, r2_score\n",
    "from sklearn.linear_model import LinearRegression, Ridge, Lasso \n",
    "lm = linear_model.LinearRegression()\n",
    "model = lm.fit(X_train, y_train)\n",
    "y_test_pred = lm.predict(X_test)\n",
    "y_train_pred = lm.predict(X_train)\n",
    "rmse_train = mean_squared_error(y_train, y_train_pred)\n",
    "rmse_test = mean_squared_error(y_test, y_test_pred)\n",
    "print(\"Train Error: \",rmse_train,\"\\n\",\"Test Error: \",rmse_test)\n",
    "model.score(X_test,y_test)"
   ]
  },
  {
   "cell_type": "markdown",
   "metadata": {},
   "source": [
    "#### Use ridge regression for different values of the penalty coefficient $\\lambda$\n",
    "- Plot training and validation error vs $\\lambda$. Compare with least squares regression on the same graph.\n",
    "- Plot all coefficients of the model vs $\\lambda$ on the same graph.\n",
    "- Use k-fold cross validation / grid search to find optimal value for the hyperparameter $\\lambda$. (You can use scikit-learn)"
   ]
  },
  {
   "cell_type": "code",
   "execution_count": 24,
   "metadata": {},
   "outputs": [
    {
     "data": {
      "text/plain": [
       "<matplotlib.legend.Legend at 0x1f4167e7f28>"
      ]
     },
     "execution_count": 24,
     "metadata": {},
     "output_type": "execute_result"
    },
    {
     "data": {
      "image/png": "[encoded data removed]",
      "text/plain": [
       "<Figure size 432x288 with 1 Axes>"
      ]
     },
     "metadata": {
      "needs_background": "light"
     },
     "output_type": "display_data"
    }
   ],
   "source": [
    "lamdas = np.logspace(-6,1,50)\n",
    "error_train = []\n",
    "error_test = []\n",
    "error_rmse_train = []\n",
    "error_rmse_test = []\n",
    "coef = []\n",
    "for i in lamdas:\n",
    "    ridgeModel = Ridge(alpha = i) \n",
    "    ridgeModel.fit(X_train, y_train)\n",
    "    y_train_pred_ridge = ridgeModel.predict(X_train)\n",
    "    y_test_pred_ridge = ridgeModel.predict(X_test)\n",
    "    ridge_train = (mean_squared_error(y_train,y_train_pred_ridge))\n",
    "    error_train.append(ridge_train)\n",
    "    ridge_test = (mean_squared_error(y_test,y_test_pred_ridge))\n",
    "    error_test.append(ridge_test)\n",
    "    error_rmse_train.append(rmse_train)\n",
    "    error_rmse_test.append(rmse_test)\n",
    "    ridge_coef = ridgeModel.coef_\n",
    "    coef.append(ridge_coef)\n",
    "plt.plot(lamdas,error_train)\n",
    "plt.plot(lamdas,error_test)\n",
    "plt.plot(lamdas,error_rmse_train)\n",
    "plt.plot(lamdas,error_rmse_test)\n",
    "# plt.plot(lamdas,coef)\n",
    "plt.legend(['Ridge Train Error', 'Ridge Test Error','Least Squares Train', 'Least Square Test' ], loc='upper left')\n"
   ]
  },
  {
   "cell_type": "code",
   "execution_count": 36,
   "metadata": {},
   "outputs": [
    {
     "data": {
      "text/plain": [
       "<matplotlib.legend.Legend at 0x1f41696b4e0>"
      ]
     },
     "execution_count": 36,
     "metadata": {},
     "output_type": "execute_result"
    },
    {
     "data": {
      "image/png": "[encoded data removed]",
      "text/plain": [
       "<Figure size 432x288 with 1 Axes>"
      ]
     },
     "metadata": {
      "needs_background": "light"
     },
     "output_type": "display_data"
    }
   ],
   "source": [
    "lam = np.logspace(-3,3,50)\n",
    "coeff1 = []\n",
    "coeff2 = []\n",
    "coeff3 = []\n",
    "coeff4 = []\n",
    "coeff5 = []\n",
    "coeff6 = []\n",
    "coeff7 = []\n",
    "coeff8 = []\n",
    "coeff9 = []\n",
    "coeff10 = []\n",
    "coeff11 = []\n",
    "coeff12 = []\n",
    "for i in lam:\n",
    "   ridgeModel = Ridge(alpha = i)\n",
    "   ridgeModel.fit(X_train, y_train)\n",
    "   coeff1.append(ridgeModel.coef_[0])\n",
    "   coeff2.append(ridgeModel.coef_[1])\n",
    "   coeff3.append(ridgeModel.coef_[2])\n",
    "   coeff4.append(ridgeModel.coef_[3])\n",
    "   coeff5.append(ridgeModel.coef_[4])\n",
    "   coeff6.append(ridgeModel.coef_[5])\n",
    "   coeff7.append(ridgeModel.coef_[6])\n",
    "   coeff8.append(ridgeModel.coef_[7])\n",
    "   coeff9.append(ridgeModel.coef_[8])\n",
    "   coeff10.append(ridgeModel.coef_[9])\n",
    "   coeff11.append(ridgeModel.coef_[10])\n",
    "   coeff12.append(ridgeModel.coef_[11])\n",
    "plt.plot(lam,coeff1)\n",
    "plt.plot(lam,coeff2)\n",
    "plt.plot(lam,coeff3)\n",
    "plt.plot(lam,coeff4)\n",
    "plt.plot(lam,coeff5)\n",
    "plt.plot(lam,coeff6)\n",
    "plt.plot(lam,coeff7)\n",
    "plt.plot(lam,coeff8)\n",
    "plt.plot(lam,coeff9)\n",
    "plt.plot(lam,coeff10)\n",
    "plt.plot(lam,coeff11)\n",
    "plt.plot(lam,coeff12)\n",
    "plt.legend(['coeff1', 'coeff2','coeff3','coeff4','coeff5','coeff6','coeff7','coeff8','coeff9','coeff10','coeff11','coeff12'], loc='best',bbox_to_anchor=(0.5, 0.5))"
   ]
  },
  {
   "cell_type": "code",
   "execution_count": 17,
   "metadata": {},
   "outputs": [
    {
     "data": {
      "text/plain": [
       "0"
      ]
     },
     "execution_count": 17,
     "metadata": {},
     "output_type": "execute_result"
    }
   ],
   "source": [
    "ymin = min(error_test)\n",
    "xpos = error_test.index(ymin)\n",
    "xpos"
   ]
  },
  {
   "cell_type": "code",
   "execution_count": 20,
   "metadata": {},
   "outputs": [],
   "source": [
    "from sklearn.linear_model import RidgeCV, LassoCV\n",
    "from sklearn.datasets import load_boston\n",
    "from sklearn.preprocessing import StandardScaler"
   ]
  },
  {
   "cell_type": "code",
   "execution_count": 21,
   "metadata": {},
   "outputs": [],
   "source": [
    "regr_cv = RidgeCV(alphas = np.logspace(-3,3,100))"
   ]
  },
  {
   "cell_type": "code",
   "execution_count": 22,
   "metadata": {},
   "outputs": [],
   "source": [
    "model_cv = regr_cv.fit(X_train, y_train)"
   ]
  },
  {
   "cell_type": "code",
   "execution_count": 23,
   "metadata": {},
   "outputs": [
    {
     "data": {
      "text/plain": [
       "0.13219411484660287"
      ]
     },
     "execution_count": 23,
     "metadata": {},
     "output_type": "execute_result"
    }
   ],
   "source": [
    "model_cv.alpha_"
   ]
  },
  {
   "cell_type": "code",
   "execution_count": 37,
   "metadata": {},
   "outputs": [
    {
     "data": {
      "text/plain": [
       "0.9564443715391401"
      ]
     },
     "execution_count": 37,
     "metadata": {},
     "output_type": "execute_result"
    }
   ],
   "source": [
    "ridgeModel = Ridge(alpha =0.001) \n",
    "ridgeModel.fit(X_train, y_train)\n",
    "y_train_pred_ridge = ridgeModel.predict(X_train)\n",
    "y_test_pred_ridge = ridgeModel.predict(X_test)\n",
    "ridge_train = (mean_squared_error(y_train,y_train_pred_ridge))\n",
    "ridge_test = (mean_squared_error(y_test,y_test_pred_ridge))\n",
    "ridgeModel.score(X_test, y_test)"
   ]
  },
  {
   "cell_type": "markdown",
   "metadata": {},
   "source": [
    "####   Use lasso regression for different values of the penalty coefficient $\\lambda$\n",
    "- Plot training and validation error vs $\\lambda$. Compare with least squares regression on the same graph.\n",
    "- Plot all coefficients of the model vs $\\lambda$ on the same graph.\n",
    "- Use k-fold cross validation / grid search to find optimal value for the hyperparameter $\\lambda$. (You can use scikit-learn)"
   ]
  },
  {
   "cell_type": "code",
   "execution_count": 25,
   "metadata": {
    "scrolled": false
   },
   "outputs": [
    {
     "name": "stderr",
     "output_type": "stream",
     "text": [
      "C:\\Users\\vishn\\Anaconda3\\lib\\site-packages\\sklearn\\linear_model\\coordinate_descent.py:475: ConvergenceWarning: Objective did not converge. You might want to increase the number of iterations. Duality gap: 1542541.0965874149, tolerance: 6107.0088187500005\n",
      "  positive)\n",
      "C:\\Users\\vishn\\Anaconda3\\lib\\site-packages\\sklearn\\linear_model\\coordinate_descent.py:475: ConvergenceWarning: Objective did not converge. You might want to increase the number of iterations. Duality gap: 1542541.0462757559, tolerance: 6107.0088187500005\n",
      "  positive)\n",
      "C:\\Users\\vishn\\Anaconda3\\lib\\site-packages\\sklearn\\linear_model\\coordinate_descent.py:475: ConvergenceWarning: Objective did not converge. You might want to increase the number of iterations. Duality gap: 1542540.9763674226, tolerance: 6107.0088187500005\n",
      "  positive)\n",
      "C:\\Users\\vishn\\Anaconda3\\lib\\site-packages\\sklearn\\linear_model\\coordinate_descent.py:475: ConvergenceWarning: Objective did not converge. You might want to increase the number of iterations. Duality gap: 1542540.87922909, tolerance: 6107.0088187500005\n",
      "  positive)\n",
      "C:\\Users\\vishn\\Anaconda3\\lib\\site-packages\\sklearn\\linear_model\\coordinate_descent.py:475: ConvergenceWarning: Objective did not converge. You might want to increase the number of iterations. Duality gap: 1542540.7442538529, tolerance: 6107.0088187500005\n",
      "  positive)\n",
      "C:\\Users\\vishn\\Anaconda3\\lib\\site-packages\\sklearn\\linear_model\\coordinate_descent.py:475: ConvergenceWarning: Objective did not converge. You might want to increase the number of iterations. Duality gap: 1542540.556702595, tolerance: 6107.0088187500005\n",
      "  positive)\n",
      "C:\\Users\\vishn\\Anaconda3\\lib\\site-packages\\sklearn\\linear_model\\coordinate_descent.py:475: ConvergenceWarning: Objective did not converge. You might want to increase the number of iterations. Duality gap: 1542540.2960936793, tolerance: 6107.0088187500005\n",
      "  positive)\n",
      "C:\\Users\\vishn\\Anaconda3\\lib\\site-packages\\sklearn\\linear_model\\coordinate_descent.py:475: ConvergenceWarning: Objective did not converge. You might want to increase the number of iterations. Duality gap: 1542539.9339646713, tolerance: 6107.0088187500005\n",
      "  positive)\n",
      "C:\\Users\\vishn\\Anaconda3\\lib\\site-packages\\sklearn\\linear_model\\coordinate_descent.py:475: ConvergenceWarning: Objective did not converge. You might want to increase the number of iterations. Duality gap: 1542539.4307608495, tolerance: 6107.0088187500005\n",
      "  positive)\n",
      "C:\\Users\\vishn\\Anaconda3\\lib\\site-packages\\sklearn\\linear_model\\coordinate_descent.py:475: ConvergenceWarning: Objective did not converge. You might want to increase the number of iterations. Duality gap: 1542538.7315089053, tolerance: 6107.0088187500005\n",
      "  positive)\n",
      "C:\\Users\\vishn\\Anaconda3\\lib\\site-packages\\sklearn\\linear_model\\coordinate_descent.py:475: ConvergenceWarning: Objective did not converge. You might want to increase the number of iterations. Duality gap: 1542537.759800104, tolerance: 6107.0088187500005\n",
      "  positive)\n",
      "C:\\Users\\vishn\\Anaconda3\\lib\\site-packages\\sklearn\\linear_model\\coordinate_descent.py:475: ConvergenceWarning: Objective did not converge. You might want to increase the number of iterations. Duality gap: 1542536.4094193813, tolerance: 6107.0088187500005\n",
      "  positive)\n",
      "C:\\Users\\vishn\\Anaconda3\\lib\\site-packages\\sklearn\\linear_model\\coordinate_descent.py:475: ConvergenceWarning: Objective did not converge. You might want to increase the number of iterations. Duality gap: 1542534.532693575, tolerance: 6107.0088187500005\n",
      "  positive)\n",
      "C:\\Users\\vishn\\Anaconda3\\lib\\site-packages\\sklearn\\linear_model\\coordinate_descent.py:475: ConvergenceWarning: Objective did not converge. You might want to increase the number of iterations. Duality gap: 1542531.9242619562, tolerance: 6107.0088187500005\n",
      "  positive)\n",
      "C:\\Users\\vishn\\Anaconda3\\lib\\site-packages\\sklearn\\linear_model\\coordinate_descent.py:475: ConvergenceWarning: Objective did not converge. You might want to increase the number of iterations. Duality gap: 1542528.2984494069, tolerance: 6107.0088187500005\n",
      "  positive)\n",
      "C:\\Users\\vishn\\Anaconda3\\lib\\site-packages\\sklearn\\linear_model\\coordinate_descent.py:475: ConvergenceWarning: Objective did not converge. You might want to increase the number of iterations. Duality gap: 1542523.257679681, tolerance: 6107.0088187500005\n",
      "  positive)\n",
      "C:\\Users\\vishn\\Anaconda3\\lib\\site-packages\\sklearn\\linear_model\\coordinate_descent.py:475: ConvergenceWarning: Objective did not converge. You might want to increase the number of iterations. Duality gap: 1542516.2483022762, tolerance: 6107.0088187500005\n",
      "  positive)\n",
      "C:\\Users\\vishn\\Anaconda3\\lib\\site-packages\\sklearn\\linear_model\\coordinate_descent.py:475: ConvergenceWarning: Objective did not converge. You might want to increase the number of iterations. Duality gap: 1542506.498666666, tolerance: 6107.0088187500005\n",
      "  positive)\n",
      "C:\\Users\\vishn\\Anaconda3\\lib\\site-packages\\sklearn\\linear_model\\coordinate_descent.py:475: ConvergenceWarning: Objective did not converge. You might want to increase the number of iterations. Duality gap: 1542492.932019884, tolerance: 6107.0088187500005\n",
      "  positive)\n",
      "C:\\Users\\vishn\\Anaconda3\\lib\\site-packages\\sklearn\\linear_model\\coordinate_descent.py:475: ConvergenceWarning: Objective did not converge. You might want to increase the number of iterations. Duality gap: 1542474.043437619, tolerance: 6107.0088187500005\n",
      "  positive)\n",
      "C:\\Users\\vishn\\Anaconda3\\lib\\site-packages\\sklearn\\linear_model\\coordinate_descent.py:475: ConvergenceWarning: Objective did not converge. You might want to increase the number of iterations. Duality gap: 1542447.724881053, tolerance: 6107.0088187500005\n",
      "  positive)\n",
      "C:\\Users\\vishn\\Anaconda3\\lib\\site-packages\\sklearn\\linear_model\\coordinate_descent.py:475: ConvergenceWarning: Objective did not converge. You might want to increase the number of iterations. Duality gap: 1542411.2108589963, tolerance: 6107.0088187500005\n",
      "  positive)\n",
      "C:\\Users\\vishn\\Anaconda3\\lib\\site-packages\\sklearn\\linear_model\\coordinate_descent.py:475: ConvergenceWarning: Objective did not converge. You might want to increase the number of iterations. Duality gap: 1542360.5029168152, tolerance: 6107.0088187500005\n",
      "  positive)\n",
      "C:\\Users\\vishn\\Anaconda3\\lib\\site-packages\\sklearn\\linear_model\\coordinate_descent.py:475: ConvergenceWarning: Objective did not converge. You might want to increase the number of iterations. Duality gap: 1542290.0645985308, tolerance: 6107.0088187500005\n",
      "  positive)\n",
      "C:\\Users\\vishn\\Anaconda3\\lib\\site-packages\\sklearn\\linear_model\\coordinate_descent.py:475: ConvergenceWarning: Objective did not converge. You might want to increase the number of iterations. Duality gap: 1542192.1795652548, tolerance: 6107.0088187500005\n",
      "  positive)\n",
      "C:\\Users\\vishn\\Anaconda3\\lib\\site-packages\\sklearn\\linear_model\\coordinate_descent.py:475: ConvergenceWarning: Objective did not converge. You might want to increase the number of iterations. Duality gap: 1542056.1309008864, tolerance: 6107.0088187500005\n",
      "  positive)\n",
      "C:\\Users\\vishn\\Anaconda3\\lib\\site-packages\\sklearn\\linear_model\\coordinate_descent.py:475: ConvergenceWarning: Objective did not converge. You might want to increase the number of iterations. Duality gap: 1541867.012326718, tolerance: 6107.0088187500005\n",
      "  positive)\n",
      "C:\\Users\\vishn\\Anaconda3\\lib\\site-packages\\sklearn\\linear_model\\coordinate_descent.py:475: ConvergenceWarning: Objective did not converge. You might want to increase the number of iterations. Duality gap: 1541604.0761905094, tolerance: 6107.0088187500005\n",
      "  positive)\n",
      "C:\\Users\\vishn\\Anaconda3\\lib\\site-packages\\sklearn\\linear_model\\coordinate_descent.py:475: ConvergenceWarning: Objective did not converge. You might want to increase the number of iterations. Duality gap: 1541238.4233298348, tolerance: 6107.0088187500005\n",
      "  positive)\n",
      "C:\\Users\\vishn\\Anaconda3\\lib\\site-packages\\sklearn\\linear_model\\coordinate_descent.py:475: ConvergenceWarning: Objective did not converge. You might want to increase the number of iterations. Duality gap: 1540729.7618122383, tolerance: 6107.0088187500005\n",
      "  positive)\n",
      "C:\\Users\\vishn\\Anaconda3\\lib\\site-packages\\sklearn\\linear_model\\coordinate_descent.py:475: ConvergenceWarning: Objective did not converge. You might want to increase the number of iterations. Duality gap: 1540021.8419154824, tolerance: 6107.0088187500005\n",
      "  positive)\n",
      "C:\\Users\\vishn\\Anaconda3\\lib\\site-packages\\sklearn\\linear_model\\coordinate_descent.py:475: ConvergenceWarning: Objective did not converge. You might want to increase the number of iterations. Duality gap: 1539035.9943506364, tolerance: 6107.0088187500005\n",
      "  positive)\n",
      "C:\\Users\\vishn\\Anaconda3\\lib\\site-packages\\sklearn\\linear_model\\coordinate_descent.py:475: ConvergenceWarning: Objective did not converge. You might want to increase the number of iterations. Duality gap: 1537661.9222367788, tolerance: 6107.0088187500005\n",
      "  positive)\n",
      "C:\\Users\\vishn\\Anaconda3\\lib\\site-packages\\sklearn\\linear_model\\coordinate_descent.py:475: ConvergenceWarning: Objective did not converge. You might want to increase the number of iterations. Duality gap: 1535744.463091156, tolerance: 6107.0088187500005\n",
      "  positive)\n",
      "C:\\Users\\vishn\\Anaconda3\\lib\\site-packages\\sklearn\\linear_model\\coordinate_descent.py:475: ConvergenceWarning: Objective did not converge. You might want to increase the number of iterations. Duality gap: 1533064.336216666, tolerance: 6107.0088187500005\n",
      "  positive)\n",
      "C:\\Users\\vishn\\Anaconda3\\lib\\site-packages\\sklearn\\linear_model\\coordinate_descent.py:475: ConvergenceWarning: Objective did not converge. You might want to increase the number of iterations. Duality gap: 1529309.7331460952, tolerance: 6107.0088187500005\n",
      "  positive)\n",
      "C:\\Users\\vishn\\Anaconda3\\lib\\site-packages\\sklearn\\linear_model\\coordinate_descent.py:475: ConvergenceWarning: Objective did not converge. You might want to increase the number of iterations. Duality gap: 1524033.6428095321, tolerance: 6107.0088187500005\n",
      "  positive)\n",
      "C:\\Users\\vishn\\Anaconda3\\lib\\site-packages\\sklearn\\linear_model\\coordinate_descent.py:475: ConvergenceWarning: Objective did not converge. You might want to increase the number of iterations. Duality gap: 1516588.3184836837, tolerance: 6107.0088187500005\n",
      "  positive)\n",
      "C:\\Users\\vishn\\Anaconda3\\lib\\site-packages\\sklearn\\linear_model\\coordinate_descent.py:475: ConvergenceWarning: Objective did not converge. You might want to increase the number of iterations. Duality gap: 1506022.1964457794, tolerance: 6107.0088187500005\n",
      "  positive)\n",
      "C:\\Users\\vishn\\Anaconda3\\lib\\site-packages\\sklearn\\linear_model\\coordinate_descent.py:475: ConvergenceWarning: Objective did not converge. You might want to increase the number of iterations. Duality gap: 1490871.2927557835, tolerance: 6107.0088187500005\n",
      "  positive)\n"
     ]
    },
    {
     "name": "stderr",
     "output_type": "stream",
     "text": [
      "C:\\Users\\vishn\\Anaconda3\\lib\\site-packages\\sklearn\\linear_model\\coordinate_descent.py:475: ConvergenceWarning: Objective did not converge. You might want to increase the number of iterations. Duality gap: 1469036.3022511224, tolerance: 6107.0088187500005\n",
      "  positive)\n",
      "C:\\Users\\vishn\\Anaconda3\\lib\\site-packages\\sklearn\\linear_model\\coordinate_descent.py:475: ConvergenceWarning: Objective did not converge. You might want to increase the number of iterations. Duality gap: 1437124.8741456417, tolerance: 6107.0088187500005\n",
      "  positive)\n",
      "C:\\Users\\vishn\\Anaconda3\\lib\\site-packages\\sklearn\\linear_model\\coordinate_descent.py:475: ConvergenceWarning: Objective did not converge. You might want to increase the number of iterations. Duality gap: 1389739.0922646762, tolerance: 6107.0088187500005\n",
      "  positive)\n",
      "C:\\Users\\vishn\\Anaconda3\\lib\\site-packages\\sklearn\\linear_model\\coordinate_descent.py:475: ConvergenceWarning: Objective did not converge. You might want to increase the number of iterations. Duality gap: 1318010.5243860697, tolerance: 6107.0088187500005\n",
      "  positive)\n",
      "C:\\Users\\vishn\\Anaconda3\\lib\\site-packages\\sklearn\\linear_model\\coordinate_descent.py:475: ConvergenceWarning: Objective did not converge. You might want to increase the number of iterations. Duality gap: 1207107.6356698275, tolerance: 6107.0088187500005\n",
      "  positive)\n",
      "C:\\Users\\vishn\\Anaconda3\\lib\\site-packages\\sklearn\\linear_model\\coordinate_descent.py:475: ConvergenceWarning: Objective did not converge. You might want to increase the number of iterations. Duality gap: 984475.0823664226, tolerance: 6107.0088187500005\n",
      "  positive)\n",
      "C:\\Users\\vishn\\Anaconda3\\lib\\site-packages\\sklearn\\linear_model\\coordinate_descent.py:475: ConvergenceWarning: Objective did not converge. You might want to increase the number of iterations. Duality gap: 685285.4263448932, tolerance: 6107.0088187500005\n",
      "  positive)\n",
      "C:\\Users\\vishn\\Anaconda3\\lib\\site-packages\\sklearn\\linear_model\\coordinate_descent.py:475: ConvergenceWarning: Objective did not converge. You might want to increase the number of iterations. Duality gap: 327613.0832509729, tolerance: 6107.0088187500005\n",
      "  positive)\n"
     ]
    },
    {
     "data": {
      "text/plain": [
       "<matplotlib.legend.Legend at 0x1f41689af60>"
      ]
     },
     "execution_count": 25,
     "metadata": {},
     "output_type": "execute_result"
    },
    {
     "data": {
      "image/png": "[encoded data removed]",
      "text/plain": [
       "<Figure size 432x288 with 1 Axes>"
      ]
     },
     "metadata": {
      "needs_background": "light"
     },
     "output_type": "display_data"
    }
   ],
   "source": [
    "lamdas = np.logspace(-6,1,50)\n",
    "error_train = []\n",
    "error_test = []\n",
    "error_rmse_train = []\n",
    "error_rmse_test = []\n",
    "for i in lamdas:\n",
    "    LassoModel = Lasso(alpha = i) \n",
    "    LassoModel.fit(X_train, y_train)\n",
    "    y_train_pred_Lasso = LassoModel.predict(X_train)\n",
    "    y_test_pred_Lasso = LassoModel.predict(X_test)\n",
    "    Lasso_train = (mean_squared_error(y_train,y_train_pred_Lasso))\n",
    "    error_train.append(Lasso_train)\n",
    "    Lasso_test = (mean_squared_error(y_test,y_test_pred_Lasso))\n",
    "    error_test.append(Lasso_test)\n",
    "    error_rmse_train.append(rmse_train)\n",
    "    error_rmse_test.append(rmse_test)\n",
    "plt.plot(lamdas,error_train)\n",
    "plt.plot(lamdas,error_test)\n",
    "plt.plot(lamdas,error_rmse_train)\n",
    "plt.plot(lamdas,error_rmse_test)\n",
    "plt.legend(['Lasso Train Error', 'Lasso Test Error','Least Squares Train', 'Least Square Test' ], loc='upper left')\n"
   ]
  },
  {
   "cell_type": "code",
   "execution_count": 37,
   "metadata": {},
   "outputs": [
    {
     "name": "stderr",
     "output_type": "stream",
     "text": [
      "C:\\Users\\vishn\\Anaconda3\\lib\\site-packages\\sklearn\\linear_model\\coordinate_descent.py:475: ConvergenceWarning: Objective did not converge. You might want to increase the number of iterations. Duality gap: 1542411.2108589963, tolerance: 6107.0088187500005\n",
      "  positive)\n",
      "C:\\Users\\vishn\\Anaconda3\\lib\\site-packages\\sklearn\\linear_model\\coordinate_descent.py:475: ConvergenceWarning: Objective did not converge. You might want to increase the number of iterations. Duality gap: 1542368.804956121, tolerance: 6107.0088187500005\n",
      "  positive)\n",
      "C:\\Users\\vishn\\Anaconda3\\lib\\site-packages\\sklearn\\linear_model\\coordinate_descent.py:475: ConvergenceWarning: Objective did not converge. You might want to increase the number of iterations. Duality gap: 1542312.605302559, tolerance: 6107.0088187500005\n",
      "  positive)\n",
      "C:\\Users\\vishn\\Anaconda3\\lib\\site-packages\\sklearn\\linear_model\\coordinate_descent.py:475: ConvergenceWarning: Objective did not converge. You might want to increase the number of iterations. Duality gap: 1542238.0975857468, tolerance: 6107.0088187500005\n",
      "  positive)\n",
      "C:\\Users\\vishn\\Anaconda3\\lib\\site-packages\\sklearn\\linear_model\\coordinate_descent.py:475: ConvergenceWarning: Objective did not converge. You might want to increase the number of iterations. Duality gap: 1542139.303517743, tolerance: 6107.0088187500005\n",
      "  positive)\n",
      "C:\\Users\\vishn\\Anaconda3\\lib\\site-packages\\sklearn\\linear_model\\coordinate_descent.py:475: ConvergenceWarning: Objective did not converge. You might want to increase the number of iterations. Duality gap: 1542008.2933451936, tolerance: 6107.0088187500005\n",
      "  positive)\n",
      "C:\\Users\\vishn\\Anaconda3\\lib\\site-packages\\sklearn\\linear_model\\coordinate_descent.py:475: ConvergenceWarning: Objective did not converge. You might want to increase the number of iterations. Duality gap: 1541834.5425627625, tolerance: 6107.0088187500005\n",
      "  positive)\n",
      "C:\\Users\\vishn\\Anaconda3\\lib\\site-packages\\sklearn\\linear_model\\coordinate_descent.py:475: ConvergenceWarning: Objective did not converge. You might want to increase the number of iterations. Duality gap: 1541604.076190515, tolerance: 6107.0088187500005\n",
      "  positive)\n",
      "C:\\Users\\vishn\\Anaconda3\\lib\\site-packages\\sklearn\\linear_model\\coordinate_descent.py:475: ConvergenceWarning: Objective did not converge. You might want to increase the number of iterations. Duality gap: 1541298.3272301133, tolerance: 6107.0088187500005\n",
      "  positive)\n",
      "C:\\Users\\vishn\\Anaconda3\\lib\\site-packages\\sklearn\\linear_model\\coordinate_descent.py:475: ConvergenceWarning: Objective did not converge. You might want to increase the number of iterations. Duality gap: 1540892.6102439775, tolerance: 6107.0088187500005\n",
      "  positive)\n",
      "C:\\Users\\vishn\\Anaconda3\\lib\\site-packages\\sklearn\\linear_model\\coordinate_descent.py:475: ConvergenceWarning: Objective did not converge. You might want to increase the number of iterations. Duality gap: 1540354.074598371, tolerance: 6107.0088187500005\n",
      "  positive)\n",
      "C:\\Users\\vishn\\Anaconda3\\lib\\site-packages\\sklearn\\linear_model\\coordinate_descent.py:475: ConvergenceWarning: Objective did not converge. You might want to increase the number of iterations. Duality gap: 1539638.9502373224, tolerance: 6107.0088187500005\n",
      "  positive)\n",
      "C:\\Users\\vishn\\Anaconda3\\lib\\site-packages\\sklearn\\linear_model\\coordinate_descent.py:475: ConvergenceWarning: Objective did not converge. You might want to increase the number of iterations. Duality gap: 1538688.8245825598, tolerance: 6107.0088187500005\n",
      "  positive)\n",
      "C:\\Users\\vishn\\Anaconda3\\lib\\site-packages\\sklearn\\linear_model\\coordinate_descent.py:475: ConvergenceWarning: Objective did not converge. You might want to increase the number of iterations. Duality gap: 1537425.580470493, tolerance: 6107.0088187500005\n",
      "  positive)\n",
      "C:\\Users\\vishn\\Anaconda3\\lib\\site-packages\\sklearn\\linear_model\\coordinate_descent.py:475: ConvergenceWarning: Objective did not converge. You might want to increase the number of iterations. Duality gap: 1535744.4630911928, tolerance: 6107.0088187500005\n",
      "  positive)\n",
      "C:\\Users\\vishn\\Anaconda3\\lib\\site-packages\\sklearn\\linear_model\\coordinate_descent.py:475: ConvergenceWarning: Objective did not converge. You might want to increase the number of iterations. Duality gap: 1533504.4970803156, tolerance: 6107.0088187500005\n",
      "  positive)\n",
      "C:\\Users\\vishn\\Anaconda3\\lib\\site-packages\\sklearn\\linear_model\\coordinate_descent.py:475: ConvergenceWarning: Objective did not converge. You might want to increase the number of iterations. Duality gap: 1530515.0935511682, tolerance: 6107.0088187500005\n",
      "  positive)\n",
      "C:\\Users\\vishn\\Anaconda3\\lib\\site-packages\\sklearn\\linear_model\\coordinate_descent.py:475: ConvergenceWarning: Objective did not converge. You might want to increase the number of iterations. Duality gap: 1526517.0878124093, tolerance: 6107.0088187500005\n",
      "  positive)\n",
      "C:\\Users\\vishn\\Anaconda3\\lib\\site-packages\\sklearn\\linear_model\\coordinate_descent.py:475: ConvergenceWarning: Objective did not converge. You might want to increase the number of iterations. Duality gap: 1521155.4666209195, tolerance: 6107.0088187500005\n",
      "  positive)\n",
      "C:\\Users\\vishn\\Anaconda3\\lib\\site-packages\\sklearn\\linear_model\\coordinate_descent.py:475: ConvergenceWarning: Objective did not converge. You might want to increase the number of iterations. Duality gap: 1513939.4091106397, tolerance: 6107.0088187500005\n",
      "  positive)\n",
      "C:\\Users\\vishn\\Anaconda3\\lib\\site-packages\\sklearn\\linear_model\\coordinate_descent.py:475: ConvergenceWarning: Objective did not converge. You might want to increase the number of iterations. Duality gap: 1504182.7715710306, tolerance: 6107.0088187500005\n",
      "  positive)\n",
      "C:\\Users\\vishn\\Anaconda3\\lib\\site-packages\\sklearn\\linear_model\\coordinate_descent.py:475: ConvergenceWarning: Objective did not converge. You might want to increase the number of iterations. Duality gap: 1490871.2927557835, tolerance: 6107.0088187500005\n",
      "  positive)\n",
      "C:\\Users\\vishn\\Anaconda3\\lib\\site-packages\\sklearn\\linear_model\\coordinate_descent.py:475: ConvergenceWarning: Objective did not converge. You might want to increase the number of iterations. Duality gap: 1472676.6882574116, tolerance: 6107.0088187500005\n",
      "  positive)\n",
      "C:\\Users\\vishn\\Anaconda3\\lib\\site-packages\\sklearn\\linear_model\\coordinate_descent.py:475: ConvergenceWarning: Objective did not converge. You might want to increase the number of iterations. Duality gap: 1447536.0065513107, tolerance: 6107.0088187500005\n",
      "  positive)\n",
      "C:\\Users\\vishn\\Anaconda3\\lib\\site-packages\\sklearn\\linear_model\\coordinate_descent.py:475: ConvergenceWarning: Objective did not converge. You might want to increase the number of iterations. Duality gap: 1412407.9522678624, tolerance: 6107.0088187500005\n",
      "  positive)\n",
      "C:\\Users\\vishn\\Anaconda3\\lib\\site-packages\\sklearn\\linear_model\\coordinate_descent.py:475: ConvergenceWarning: Objective did not converge. You might want to increase the number of iterations. Duality gap: 1362671.2838027398, tolerance: 6107.0088187500005\n",
      "  positive)\n",
      "C:\\Users\\vishn\\Anaconda3\\lib\\site-packages\\sklearn\\linear_model\\coordinate_descent.py:475: ConvergenceWarning: Objective did not converge. You might want to increase the number of iterations. Duality gap: 1291178.2603365504, tolerance: 6107.0088187500005\n",
      "  positive)\n",
      "C:\\Users\\vishn\\Anaconda3\\lib\\site-packages\\sklearn\\linear_model\\coordinate_descent.py:475: ConvergenceWarning: Objective did not converge. You might want to increase the number of iterations. Duality gap: 1186781.6301788874, tolerance: 6107.0088187500005\n",
      "  positive)\n",
      "C:\\Users\\vishn\\Anaconda3\\lib\\site-packages\\sklearn\\linear_model\\coordinate_descent.py:475: ConvergenceWarning: Objective did not converge. You might want to increase the number of iterations. Duality gap: 984475.0823739134, tolerance: 6107.0088187500005\n",
      "  positive)\n",
      "C:\\Users\\vishn\\Anaconda3\\lib\\site-packages\\sklearn\\linear_model\\coordinate_descent.py:475: ConvergenceWarning: Objective did not converge. You might want to increase the number of iterations. Duality gap: 729460.4481779623, tolerance: 6107.0088187500005\n",
      "  positive)\n",
      "C:\\Users\\vishn\\Anaconda3\\lib\\site-packages\\sklearn\\linear_model\\coordinate_descent.py:475: ConvergenceWarning: Objective did not converge. You might want to increase the number of iterations. Duality gap: 438343.2689161971, tolerance: 6107.0088187500005\n",
      "  positive)\n",
      "C:\\Users\\vishn\\Anaconda3\\lib\\site-packages\\sklearn\\linear_model\\coordinate_descent.py:475: ConvergenceWarning: Objective did not converge. You might want to increase the number of iterations. Duality gap: 98100.45289789326, tolerance: 6107.0088187500005\n",
      "  positive)\n"
     ]
    },
    {
     "data": {
      "text/plain": [
       "<matplotlib.legend.Legend at 0x1f416a1f668>"
      ]
     },
     "execution_count": 37,
     "metadata": {},
     "output_type": "execute_result"
    },
    {
     "data": {
      "image/png": "[encoded data removed]",
      "text/plain": [
       "<Figure size 432x288 with 1 Axes>"
      ]
     },
     "metadata": {
      "needs_background": "light"
     },
     "output_type": "display_data"
    }
   ],
   "source": [
    "lam = np.logspace(-3,3,50)\n",
    "coeff1 = []\n",
    "coeff2 = []\n",
    "coeff3 = []\n",
    "coeff4 = []\n",
    "coeff5 = []\n",
    "coeff6 = []\n",
    "coeff7 = []\n",
    "coeff8 = []\n",
    "coeff9 = []\n",
    "coeff10 = []\n",
    "coeff11 = []\n",
    "coeff12 = []\n",
    "for i in lam:\n",
    "   lassoModel = Lasso(alpha = i)\n",
    "   lassoModel.fit(X_train, y_train)\n",
    "   coeff1.append(lassoModel.coef_[0])\n",
    "   coeff2.append(lassoModel.coef_[1])\n",
    "   coeff3.append(lassoModel.coef_[2])\n",
    "   coeff4.append(lassoModel.coef_[3])\n",
    "   coeff5.append(lassoModel.coef_[4])\n",
    "   coeff6.append(lassoModel.coef_[5])\n",
    "   coeff7.append(lassoModel.coef_[6])\n",
    "   coeff8.append(lassoModel.coef_[7])\n",
    "   coeff9.append(lassoModel.coef_[8])\n",
    "   coeff10.append(lassoModel.coef_[9])\n",
    "   coeff11.append(lassoModel.coef_[10])\n",
    "   coeff12.append(lassoModel.coef_[11])\n",
    "plt.plot(lam,coeff1)\n",
    "plt.plot(lam,coeff2)\n",
    "plt.plot(lam,coeff3)\n",
    "plt.plot(lam,coeff4)\n",
    "plt.plot(lam,coeff5)\n",
    "plt.plot(lam,coeff6)\n",
    "plt.plot(lam,coeff7)\n",
    "plt.plot(lam,coeff8)\n",
    "plt.plot(lam,coeff9)\n",
    "plt.plot(lam,coeff10)\n",
    "plt.plot(lam,coeff11)\n",
    "plt.plot(lam,coeff12)\n",
    "plt.legend(['coeff1', 'coeff2','coeff3','coeff4','coeff5','coeff6','coeff7','coeff8','coeff9','coeff10','coeff11','coeff12'], loc='best',bbox_to_anchor=(0.5, 0.5))"
   ]
  },
  {
   "cell_type": "code",
   "execution_count": 26,
   "metadata": {},
   "outputs": [],
   "source": [
    "ymin = min(error_test)\n",
    "xpos = error_test.index(ymin)"
   ]
  },
  {
   "cell_type": "code",
   "execution_count": 27,
   "metadata": {},
   "outputs": [
    {
     "data": {
      "text/plain": [
       "0"
      ]
     },
     "execution_count": 27,
     "metadata": {},
     "output_type": "execute_result"
    }
   ],
   "source": [
    "xpos"
   ]
  },
  {
   "cell_type": "code",
   "execution_count": 28,
   "metadata": {},
   "outputs": [],
   "source": [
    "lass_cv = LassoCV(alphas = np.logspace(-6,1,50))"
   ]
  },
  {
   "cell_type": "code",
   "execution_count": 29,
   "metadata": {},
   "outputs": [
    {
     "name": "stderr",
     "output_type": "stream",
     "text": [
      "C:\\Users\\vishn\\Anaconda3\\lib\\site-packages\\sklearn\\model_selection\\_split.py:1978: FutureWarning: The default value of cv will change from 3 to 5 in version 0.22. Specify it explicitly to silence this warning.\n",
      "  warnings.warn(CV_WARNING, FutureWarning)\n",
      "C:\\Users\\vishn\\Anaconda3\\lib\\site-packages\\sklearn\\linear_model\\coordinate_descent.py:471: ConvergenceWarning: Objective did not converge. You might want to increase the number of iterations. Duality gap: 337908.5599718585, tolerance: 4162.3638\n",
      "  tol, rng, random, positive)\n",
      "C:\\Users\\vishn\\Anaconda3\\lib\\site-packages\\sklearn\\linear_model\\coordinate_descent.py:471: ConvergenceWarning: Objective did not converge. You might want to increase the number of iterations. Duality gap: 207515.51255776174, tolerance: 4162.3638\n",
      "  tol, rng, random, positive)\n",
      "C:\\Users\\vishn\\Anaconda3\\lib\\site-packages\\sklearn\\linear_model\\coordinate_descent.py:471: ConvergenceWarning: Objective did not converge. You might want to increase the number of iterations. Duality gap: 198822.8822989855, tolerance: 4162.3638\n",
      "  tol, rng, random, positive)\n",
      "C:\\Users\\vishn\\Anaconda3\\lib\\site-packages\\sklearn\\linear_model\\coordinate_descent.py:471: ConvergenceWarning: Objective did not converge. You might want to increase the number of iterations. Duality gap: 167047.6513078073, tolerance: 4162.3638\n",
      "  tol, rng, random, positive)\n",
      "C:\\Users\\vishn\\Anaconda3\\lib\\site-packages\\sklearn\\linear_model\\coordinate_descent.py:471: ConvergenceWarning: Objective did not converge. You might want to increase the number of iterations. Duality gap: 136020.31770337187, tolerance: 4162.3638\n",
      "  tol, rng, random, positive)\n",
      "C:\\Users\\vishn\\Anaconda3\\lib\\site-packages\\sklearn\\linear_model\\coordinate_descent.py:471: ConvergenceWarning: Objective did not converge. You might want to increase the number of iterations. Duality gap: 157163.96662275027, tolerance: 4162.3638\n",
      "  tol, rng, random, positive)\n",
      "C:\\Users\\vishn\\Anaconda3\\lib\\site-packages\\sklearn\\linear_model\\coordinate_descent.py:471: ConvergenceWarning: Objective did not converge. You might want to increase the number of iterations. Duality gap: 189805.5591327618, tolerance: 4162.3638\n",
      "  tol, rng, random, positive)\n",
      "C:\\Users\\vishn\\Anaconda3\\lib\\site-packages\\sklearn\\linear_model\\coordinate_descent.py:471: ConvergenceWarning: Objective did not converge. You might want to increase the number of iterations. Duality gap: 168380.5221683071, tolerance: 4162.3638\n",
      "  tol, rng, random, positive)\n",
      "C:\\Users\\vishn\\Anaconda3\\lib\\site-packages\\sklearn\\linear_model\\coordinate_descent.py:471: ConvergenceWarning: Objective did not converge. You might want to increase the number of iterations. Duality gap: 159231.71153575392, tolerance: 4162.3638\n",
      "  tol, rng, random, positive)\n",
      "C:\\Users\\vishn\\Anaconda3\\lib\\site-packages\\sklearn\\linear_model\\coordinate_descent.py:471: ConvergenceWarning: Objective did not converge. You might want to increase the number of iterations. Duality gap: 148289.07190183317, tolerance: 4162.3638\n",
      "  tol, rng, random, positive)\n",
      "C:\\Users\\vishn\\Anaconda3\\lib\\site-packages\\sklearn\\linear_model\\coordinate_descent.py:471: ConvergenceWarning: Objective did not converge. You might want to increase the number of iterations. Duality gap: 150463.19880179828, tolerance: 4162.3638\n",
      "  tol, rng, random, positive)\n",
      "C:\\Users\\vishn\\Anaconda3\\lib\\site-packages\\sklearn\\linear_model\\coordinate_descent.py:471: ConvergenceWarning: Objective did not converge. You might want to increase the number of iterations. Duality gap: 153515.79333673092, tolerance: 4162.3638\n",
      "  tol, rng, random, positive)\n",
      "C:\\Users\\vishn\\Anaconda3\\lib\\site-packages\\sklearn\\linear_model\\coordinate_descent.py:471: ConvergenceWarning: Objective did not converge. You might want to increase the number of iterations. Duality gap: 150975.57120038033, tolerance: 4162.3638\n",
      "  tol, rng, random, positive)\n",
      "C:\\Users\\vishn\\Anaconda3\\lib\\site-packages\\sklearn\\linear_model\\coordinate_descent.py:471: ConvergenceWarning: Objective did not converge. You might want to increase the number of iterations. Duality gap: 149056.33429890405, tolerance: 4162.3638\n",
      "  tol, rng, random, positive)\n",
      "C:\\Users\\vishn\\Anaconda3\\lib\\site-packages\\sklearn\\linear_model\\coordinate_descent.py:471: ConvergenceWarning: Objective did not converge. You might want to increase the number of iterations. Duality gap: 147667.25038121548, tolerance: 4162.3638\n",
      "  tol, rng, random, positive)\n",
      "C:\\Users\\vishn\\Anaconda3\\lib\\site-packages\\sklearn\\linear_model\\coordinate_descent.py:471: ConvergenceWarning: Objective did not converge. You might want to increase the number of iterations. Duality gap: 146664.1258590317, tolerance: 4162.3638\n",
      "  tol, rng, random, positive)\n",
      "C:\\Users\\vishn\\Anaconda3\\lib\\site-packages\\sklearn\\linear_model\\coordinate_descent.py:471: ConvergenceWarning: Objective did not converge. You might want to increase the number of iterations. Duality gap: 145940.44588613487, tolerance: 4162.3638\n",
      "  tol, rng, random, positive)\n",
      "C:\\Users\\vishn\\Anaconda3\\lib\\site-packages\\sklearn\\linear_model\\coordinate_descent.py:471: ConvergenceWarning: Objective did not converge. You might want to increase the number of iterations. Duality gap: 145418.7063863217, tolerance: 4162.3638\n",
      "  tol, rng, random, positive)\n",
      "C:\\Users\\vishn\\Anaconda3\\lib\\site-packages\\sklearn\\linear_model\\coordinate_descent.py:471: ConvergenceWarning: Objective did not converge. You might want to increase the number of iterations. Duality gap: 145042.724775234, tolerance: 4162.3638\n",
      "  tol, rng, random, positive)\n",
      "C:\\Users\\vishn\\Anaconda3\\lib\\site-packages\\sklearn\\linear_model\\coordinate_descent.py:471: ConvergenceWarning: Objective did not converge. You might want to increase the number of iterations. Duality gap: 144771.9060936824, tolerance: 4162.3638\n",
      "  tol, rng, random, positive)\n",
      "C:\\Users\\vishn\\Anaconda3\\lib\\site-packages\\sklearn\\linear_model\\coordinate_descent.py:471: ConvergenceWarning: Objective did not converge. You might want to increase the number of iterations. Duality gap: 144576.92178217042, tolerance: 4162.3638\n",
      "  tol, rng, random, positive)\n",
      "C:\\Users\\vishn\\Anaconda3\\lib\\site-packages\\sklearn\\linear_model\\coordinate_descent.py:471: ConvergenceWarning: Objective did not converge. You might want to increase the number of iterations. Duality gap: 144436.45112841064, tolerance: 4162.3638\n",
      "  tol, rng, random, positive)\n",
      "C:\\Users\\vishn\\Anaconda3\\lib\\site-packages\\sklearn\\linear_model\\coordinate_descent.py:471: ConvergenceWarning: Objective did not converge. You might want to increase the number of iterations. Duality gap: 144335.48274618154, tolerance: 4162.3638\n",
      "  tol, rng, random, positive)\n",
      "C:\\Users\\vishn\\Anaconda3\\lib\\site-packages\\sklearn\\linear_model\\coordinate_descent.py:471: ConvergenceWarning: Objective did not converge. You might want to increase the number of iterations. Duality gap: 144262.4393731393, tolerance: 4162.3638\n",
      "  tol, rng, random, positive)\n",
      "C:\\Users\\vishn\\Anaconda3\\lib\\site-packages\\sklearn\\linear_model\\coordinate_descent.py:471: ConvergenceWarning: Objective did not converge. You might want to increase the number of iterations. Duality gap: 144209.86200802447, tolerance: 4162.3638\n",
      "  tol, rng, random, positive)\n",
      "C:\\Users\\vishn\\Anaconda3\\lib\\site-packages\\sklearn\\linear_model\\coordinate_descent.py:471: ConvergenceWarning: Objective did not converge. You might want to increase the number of iterations. Duality gap: 144172.49452959327, tolerance: 4162.3638\n",
      "  tol, rng, random, positive)\n",
      "C:\\Users\\vishn\\Anaconda3\\lib\\site-packages\\sklearn\\linear_model\\coordinate_descent.py:471: ConvergenceWarning: Objective did not converge. You might want to increase the number of iterations. Duality gap: 144145.2391251463, tolerance: 4162.3638\n",
      "  tol, rng, random, positive)\n",
      "C:\\Users\\vishn\\Anaconda3\\lib\\site-packages\\sklearn\\linear_model\\coordinate_descent.py:471: ConvergenceWarning: Objective did not converge. You might want to increase the number of iterations. Duality gap: 144126.46854166966, tolerance: 4162.3638\n",
      "  tol, rng, random, positive)\n",
      "C:\\Users\\vishn\\Anaconda3\\lib\\site-packages\\sklearn\\linear_model\\coordinate_descent.py:471: ConvergenceWarning: Objective did not converge. You might want to increase the number of iterations. Duality gap: 144110.95359416353, tolerance: 4162.3638\n",
      "  tol, rng, random, positive)\n",
      "C:\\Users\\vishn\\Anaconda3\\lib\\site-packages\\sklearn\\linear_model\\coordinate_descent.py:471: ConvergenceWarning: Objective did not converge. You might want to increase the number of iterations. Duality gap: 144100.618362976, tolerance: 4162.3638\n",
      "  tol, rng, random, positive)\n",
      "C:\\Users\\vishn\\Anaconda3\\lib\\site-packages\\sklearn\\linear_model\\coordinate_descent.py:471: ConvergenceWarning: Objective did not converge. You might want to increase the number of iterations. Duality gap: 144095.19892839552, tolerance: 4162.3638\n",
      "  tol, rng, random, positive)\n",
      "C:\\Users\\vishn\\Anaconda3\\lib\\site-packages\\sklearn\\linear_model\\coordinate_descent.py:471: ConvergenceWarning: Objective did not converge. You might want to increase the number of iterations. Duality gap: 144091.06842223555, tolerance: 4162.3638\n",
      "  tol, rng, random, positive)\n",
      "C:\\Users\\vishn\\Anaconda3\\lib\\site-packages\\sklearn\\linear_model\\coordinate_descent.py:471: ConvergenceWarning: Objective did not converge. You might want to increase the number of iterations. Duality gap: 144087.12974806782, tolerance: 4162.3638\n",
      "  tol, rng, random, positive)\n",
      "C:\\Users\\vishn\\Anaconda3\\lib\\site-packages\\sklearn\\linear_model\\coordinate_descent.py:471: ConvergenceWarning: Objective did not converge. You might want to increase the number of iterations. Duality gap: 144085.51913722814, tolerance: 4162.3638\n",
      "  tol, rng, random, positive)\n",
      "C:\\Users\\vishn\\Anaconda3\\lib\\site-packages\\sklearn\\linear_model\\coordinate_descent.py:471: ConvergenceWarning: Objective did not converge. You might want to increase the number of iterations. Duality gap: 144087.87485395977, tolerance: 4162.3638\n",
      "  tol, rng, random, positive)\n",
      "C:\\Users\\vishn\\Anaconda3\\lib\\site-packages\\sklearn\\linear_model\\coordinate_descent.py:471: ConvergenceWarning: Objective did not converge. You might want to increase the number of iterations. Duality gap: 144076.8844893882, tolerance: 4162.3638\n",
      "  tol, rng, random, positive)\n",
      "C:\\Users\\vishn\\Anaconda3\\lib\\site-packages\\sklearn\\linear_model\\coordinate_descent.py:471: ConvergenceWarning: Objective did not converge. You might want to increase the number of iterations. Duality gap: 144076.786237692, tolerance: 4162.3638\n",
      "  tol, rng, random, positive)\n",
      "C:\\Users\\vishn\\Anaconda3\\lib\\site-packages\\sklearn\\linear_model\\coordinate_descent.py:471: ConvergenceWarning: Objective did not converge. You might want to increase the number of iterations. Duality gap: 144084.58344246983, tolerance: 4162.3638\n",
      "  tol, rng, random, positive)\n",
      "C:\\Users\\vishn\\Anaconda3\\lib\\site-packages\\sklearn\\linear_model\\coordinate_descent.py:471: ConvergenceWarning: Objective did not converge. You might want to increase the number of iterations. Duality gap: 144059.70025006472, tolerance: 4162.3638\n",
      "  tol, rng, random, positive)\n",
      "C:\\Users\\vishn\\Anaconda3\\lib\\site-packages\\sklearn\\linear_model\\coordinate_descent.py:471: ConvergenceWarning: Objective did not converge. You might want to increase the number of iterations. Duality gap: 144060.8643752872, tolerance: 4162.3638\n",
      "  tol, rng, random, positive)\n",
      "C:\\Users\\vishn\\Anaconda3\\lib\\site-packages\\sklearn\\linear_model\\coordinate_descent.py:471: ConvergenceWarning: Objective did not converge. You might want to increase the number of iterations. Duality gap: 144088.90493190428, tolerance: 4162.3638\n",
      "  tol, rng, random, positive)\n",
      "C:\\Users\\vishn\\Anaconda3\\lib\\site-packages\\sklearn\\linear_model\\coordinate_descent.py:471: ConvergenceWarning: Objective did not converge. You might want to increase the number of iterations. Duality gap: 144015.59126988472, tolerance: 4162.3638\n",
      "  tol, rng, random, positive)\n",
      "C:\\Users\\vishn\\Anaconda3\\lib\\site-packages\\sklearn\\linear_model\\coordinate_descent.py:471: ConvergenceWarning: Objective did not converge. You might want to increase the number of iterations. Duality gap: 144210.68373885797, tolerance: 4162.3638\n",
      "  tol, rng, random, positive)\n",
      "C:\\Users\\vishn\\Anaconda3\\lib\\site-packages\\sklearn\\linear_model\\coordinate_descent.py:471: ConvergenceWarning: Objective did not converge. You might want to increase the number of iterations. Duality gap: 143971.45736574475, tolerance: 4162.3638\n",
      "  tol, rng, random, positive)\n",
      "C:\\Users\\vishn\\Anaconda3\\lib\\site-packages\\sklearn\\linear_model\\coordinate_descent.py:471: ConvergenceWarning: Objective did not converge. You might want to increase the number of iterations. Duality gap: 144023.4992629448, tolerance: 4162.3638\n",
      "  tol, rng, random, positive)\n",
      "C:\\Users\\vishn\\Anaconda3\\lib\\site-packages\\sklearn\\linear_model\\coordinate_descent.py:471: ConvergenceWarning: Objective did not converge. You might want to increase the number of iterations. Duality gap: 144189.79646021314, tolerance: 4162.3638\n",
      "  tol, rng, random, positive)\n",
      "C:\\Users\\vishn\\Anaconda3\\lib\\site-packages\\sklearn\\linear_model\\coordinate_descent.py:471: ConvergenceWarning: Objective did not converge. You might want to increase the number of iterations. Duality gap: 144638.5708368891, tolerance: 4162.3638\n",
      "  tol, rng, random, positive)\n",
      "C:\\Users\\vishn\\Anaconda3\\lib\\site-packages\\sklearn\\linear_model\\coordinate_descent.py:471: ConvergenceWarning: Objective did not converge. You might want to increase the number of iterations. Duality gap: 145080.4246595211, tolerance: 4162.3638\n",
      "  tol, rng, random, positive)\n",
      "C:\\Users\\vishn\\Anaconda3\\lib\\site-packages\\sklearn\\linear_model\\coordinate_descent.py:471: ConvergenceWarning: Objective did not converge. You might want to increase the number of iterations. Duality gap: 145008.01716123195, tolerance: 4162.3638\n",
      "  tol, rng, random, positive)\n",
      "C:\\Users\\vishn\\Anaconda3\\lib\\site-packages\\sklearn\\linear_model\\coordinate_descent.py:471: ConvergenceWarning: Objective did not converge. You might want to increase the number of iterations. Duality gap: 145752.79362398805, tolerance: 4162.3638\n",
      "  tol, rng, random, positive)\n",
      "C:\\Users\\vishn\\Anaconda3\\lib\\site-packages\\sklearn\\linear_model\\coordinate_descent.py:471: ConvergenceWarning: Objective did not converge. You might want to increase the number of iterations. Duality gap: 179188.91841873387, tolerance: 3988.776699530517\n",
      "  tol, rng, random, positive)\n"
     ]
    },
    {
     "name": "stderr",
     "output_type": "stream",
     "text": [
      "C:\\Users\\vishn\\Anaconda3\\lib\\site-packages\\sklearn\\linear_model\\coordinate_descent.py:471: ConvergenceWarning: Objective did not converge. You might want to increase the number of iterations. Duality gap: 146240.54337661806, tolerance: 3988.776699530517\n",
      "  tol, rng, random, positive)\n",
      "C:\\Users\\vishn\\Anaconda3\\lib\\site-packages\\sklearn\\linear_model\\coordinate_descent.py:471: ConvergenceWarning: Objective did not converge. You might want to increase the number of iterations. Duality gap: 75867.44158479059, tolerance: 3988.776699530517\n",
      "  tol, rng, random, positive)\n",
      "C:\\Users\\vishn\\Anaconda3\\lib\\site-packages\\sklearn\\linear_model\\coordinate_descent.py:471: ConvergenceWarning: Objective did not converge. You might want to increase the number of iterations. Duality gap: 77370.60540609667, tolerance: 3988.776699530517\n",
      "  tol, rng, random, positive)\n",
      "C:\\Users\\vishn\\Anaconda3\\lib\\site-packages\\sklearn\\linear_model\\coordinate_descent.py:471: ConvergenceWarning: Objective did not converge. You might want to increase the number of iterations. Duality gap: 67336.10071058222, tolerance: 3988.776699530517\n",
      "  tol, rng, random, positive)\n",
      "C:\\Users\\vishn\\Anaconda3\\lib\\site-packages\\sklearn\\linear_model\\coordinate_descent.py:471: ConvergenceWarning: Objective did not converge. You might want to increase the number of iterations. Duality gap: 58022.35700394004, tolerance: 3988.776699530517\n",
      "  tol, rng, random, positive)\n",
      "C:\\Users\\vishn\\Anaconda3\\lib\\site-packages\\sklearn\\linear_model\\coordinate_descent.py:471: ConvergenceWarning: Objective did not converge. You might want to increase the number of iterations. Duality gap: 50997.45955249504, tolerance: 3988.776699530517\n",
      "  tol, rng, random, positive)\n",
      "C:\\Users\\vishn\\Anaconda3\\lib\\site-packages\\sklearn\\linear_model\\coordinate_descent.py:471: ConvergenceWarning: Objective did not converge. You might want to increase the number of iterations. Duality gap: 45784.00480799796, tolerance: 3988.776699530517\n",
      "  tol, rng, random, positive)\n",
      "C:\\Users\\vishn\\Anaconda3\\lib\\site-packages\\sklearn\\linear_model\\coordinate_descent.py:471: ConvergenceWarning: Objective did not converge. You might want to increase the number of iterations. Duality gap: 41950.36702577118, tolerance: 3988.776699530517\n",
      "  tol, rng, random, positive)\n",
      "C:\\Users\\vishn\\Anaconda3\\lib\\site-packages\\sklearn\\linear_model\\coordinate_descent.py:471: ConvergenceWarning: Objective did not converge. You might want to increase the number of iterations. Duality gap: 39149.0915951184, tolerance: 3988.776699530517\n",
      "  tol, rng, random, positive)\n",
      "C:\\Users\\vishn\\Anaconda3\\lib\\site-packages\\sklearn\\linear_model\\coordinate_descent.py:471: ConvergenceWarning: Objective did not converge. You might want to increase the number of iterations. Duality gap: 37111.17474252009, tolerance: 3988.776699530517\n",
      "  tol, rng, random, positive)\n",
      "C:\\Users\\vishn\\Anaconda3\\lib\\site-packages\\sklearn\\linear_model\\coordinate_descent.py:471: ConvergenceWarning: Objective did not converge. You might want to increase the number of iterations. Duality gap: 35633.15680692159, tolerance: 3988.776699530517\n",
      "  tol, rng, random, positive)\n",
      "C:\\Users\\vishn\\Anaconda3\\lib\\site-packages\\sklearn\\linear_model\\coordinate_descent.py:471: ConvergenceWarning: Objective did not converge. You might want to increase the number of iterations. Duality gap: 32605.712547181407, tolerance: 3988.776699530517\n",
      "  tol, rng, random, positive)\n",
      "C:\\Users\\vishn\\Anaconda3\\lib\\site-packages\\sklearn\\linear_model\\coordinate_descent.py:471: ConvergenceWarning: Objective did not converge. You might want to increase the number of iterations. Duality gap: 27027.989840821363, tolerance: 3988.776699530517\n",
      "  tol, rng, random, positive)\n",
      "C:\\Users\\vishn\\Anaconda3\\lib\\site-packages\\sklearn\\linear_model\\coordinate_descent.py:471: ConvergenceWarning: Objective did not converge. You might want to increase the number of iterations. Duality gap: 26468.653336135438, tolerance: 3988.776699530517\n",
      "  tol, rng, random, positive)\n",
      "C:\\Users\\vishn\\Anaconda3\\lib\\site-packages\\sklearn\\linear_model\\coordinate_descent.py:471: ConvergenceWarning: Objective did not converge. You might want to increase the number of iterations. Duality gap: 26109.72468372062, tolerance: 3988.776699530517\n",
      "  tol, rng, random, positive)\n",
      "C:\\Users\\vishn\\Anaconda3\\lib\\site-packages\\sklearn\\linear_model\\coordinate_descent.py:471: ConvergenceWarning: Objective did not converge. You might want to increase the number of iterations. Duality gap: 25851.616831619758, tolerance: 3988.776699530517\n",
      "  tol, rng, random, positive)\n",
      "C:\\Users\\vishn\\Anaconda3\\lib\\site-packages\\sklearn\\linear_model\\coordinate_descent.py:471: ConvergenceWarning: Objective did not converge. You might want to increase the number of iterations. Duality gap: 25665.62021668628, tolerance: 3988.776699530517\n",
      "  tol, rng, random, positive)\n",
      "C:\\Users\\vishn\\Anaconda3\\lib\\site-packages\\sklearn\\linear_model\\coordinate_descent.py:471: ConvergenceWarning: Objective did not converge. You might want to increase the number of iterations. Duality gap: 25531.615457071457, tolerance: 3988.776699530517\n",
      "  tol, rng, random, positive)\n",
      "C:\\Users\\vishn\\Anaconda3\\lib\\site-packages\\sklearn\\linear_model\\coordinate_descent.py:471: ConvergenceWarning: Objective did not converge. You might want to increase the number of iterations. Duality gap: 25435.26626904891, tolerance: 3988.776699530517\n",
      "  tol, rng, random, positive)\n",
      "C:\\Users\\vishn\\Anaconda3\\lib\\site-packages\\sklearn\\linear_model\\coordinate_descent.py:471: ConvergenceWarning: Objective did not converge. You might want to increase the number of iterations. Duality gap: 25365.66038812115, tolerance: 3988.776699530517\n",
      "  tol, rng, random, positive)\n",
      "C:\\Users\\vishn\\Anaconda3\\lib\\site-packages\\sklearn\\linear_model\\coordinate_descent.py:471: ConvergenceWarning: Objective did not converge. You might want to increase the number of iterations. Duality gap: 25315.43676651502, tolerance: 3988.776699530517\n",
      "  tol, rng, random, positive)\n",
      "C:\\Users\\vishn\\Anaconda3\\lib\\site-packages\\sklearn\\linear_model\\coordinate_descent.py:471: ConvergenceWarning: Objective did not converge. You might want to increase the number of iterations. Duality gap: 25279.430228622165, tolerance: 3988.776699530517\n",
      "  tol, rng, random, positive)\n",
      "C:\\Users\\vishn\\Anaconda3\\lib\\site-packages\\sklearn\\linear_model\\coordinate_descent.py:471: ConvergenceWarning: Objective did not converge. You might want to increase the number of iterations. Duality gap: 25254.058404712006, tolerance: 3988.776699530517\n",
      "  tol, rng, random, positive)\n",
      "C:\\Users\\vishn\\Anaconda3\\lib\\site-packages\\sklearn\\linear_model\\coordinate_descent.py:471: ConvergenceWarning: Objective did not converge. You might want to increase the number of iterations. Duality gap: 25235.092060871422, tolerance: 3988.776699530517\n",
      "  tol, rng, random, positive)\n",
      "C:\\Users\\vishn\\Anaconda3\\lib\\site-packages\\sklearn\\linear_model\\coordinate_descent.py:471: ConvergenceWarning: Objective did not converge. You might want to increase the number of iterations. Duality gap: 25221.65429141838, tolerance: 3988.776699530517\n",
      "  tol, rng, random, positive)\n",
      "C:\\Users\\vishn\\Anaconda3\\lib\\site-packages\\sklearn\\linear_model\\coordinate_descent.py:471: ConvergenceWarning: Objective did not converge. You might want to increase the number of iterations. Duality gap: 25212.147898417665, tolerance: 3988.776699530517\n",
      "  tol, rng, random, positive)\n",
      "C:\\Users\\vishn\\Anaconda3\\lib\\site-packages\\sklearn\\linear_model\\coordinate_descent.py:471: ConvergenceWarning: Objective did not converge. You might want to increase the number of iterations. Duality gap: 25206.47753711557, tolerance: 3988.776699530517\n",
      "  tol, rng, random, positive)\n",
      "C:\\Users\\vishn\\Anaconda3\\lib\\site-packages\\sklearn\\linear_model\\coordinate_descent.py:471: ConvergenceWarning: Objective did not converge. You might want to increase the number of iterations. Duality gap: 25197.439421244897, tolerance: 3988.776699530517\n",
      "  tol, rng, random, positive)\n",
      "C:\\Users\\vishn\\Anaconda3\\lib\\site-packages\\sklearn\\linear_model\\coordinate_descent.py:471: ConvergenceWarning: Objective did not converge. You might want to increase the number of iterations. Duality gap: 25196.425731691532, tolerance: 3988.776699530517\n",
      "  tol, rng, random, positive)\n",
      "C:\\Users\\vishn\\Anaconda3\\lib\\site-packages\\sklearn\\linear_model\\coordinate_descent.py:471: ConvergenceWarning: Objective did not converge. You might want to increase the number of iterations. Duality gap: 25192.752047409303, tolerance: 3988.776699530517\n",
      "  tol, rng, random, positive)\n"
     ]
    },
    {
     "name": "stderr",
     "output_type": "stream",
     "text": [
      "C:\\Users\\vishn\\Anaconda3\\lib\\site-packages\\sklearn\\linear_model\\coordinate_descent.py:471: ConvergenceWarning: Objective did not converge. You might want to increase the number of iterations. Duality gap: 25192.270411252044, tolerance: 3988.776699530517\n",
      "  tol, rng, random, positive)\n",
      "C:\\Users\\vishn\\Anaconda3\\lib\\site-packages\\sklearn\\linear_model\\coordinate_descent.py:471: ConvergenceWarning: Objective did not converge. You might want to increase the number of iterations. Duality gap: 25191.330611920916, tolerance: 3988.776699530517\n",
      "  tol, rng, random, positive)\n",
      "C:\\Users\\vishn\\Anaconda3\\lib\\site-packages\\sklearn\\linear_model\\coordinate_descent.py:471: ConvergenceWarning: Objective did not converge. You might want to increase the number of iterations. Duality gap: 25193.778211290017, tolerance: 3988.776699530517\n",
      "  tol, rng, random, positive)\n",
      "C:\\Users\\vishn\\Anaconda3\\lib\\site-packages\\sklearn\\linear_model\\coordinate_descent.py:471: ConvergenceWarning: Objective did not converge. You might want to increase the number of iterations. Duality gap: 25185.5830807006, tolerance: 3988.776699530517\n",
      "  tol, rng, random, positive)\n",
      "C:\\Users\\vishn\\Anaconda3\\lib\\site-packages\\sklearn\\linear_model\\coordinate_descent.py:471: ConvergenceWarning: Objective did not converge. You might want to increase the number of iterations. Duality gap: 25171.529993068893, tolerance: 3988.776699530517\n",
      "  tol, rng, random, positive)\n",
      "C:\\Users\\vishn\\Anaconda3\\lib\\site-packages\\sklearn\\linear_model\\coordinate_descent.py:471: ConvergenceWarning: Objective did not converge. You might want to increase the number of iterations. Duality gap: 25153.523103769403, tolerance: 3988.776699530517\n",
      "  tol, rng, random, positive)\n",
      "C:\\Users\\vishn\\Anaconda3\\lib\\site-packages\\sklearn\\linear_model\\coordinate_descent.py:471: ConvergenceWarning: Objective did not converge. You might want to increase the number of iterations. Duality gap: 25188.182176982984, tolerance: 3988.776699530517\n",
      "  tol, rng, random, positive)\n",
      "C:\\Users\\vishn\\Anaconda3\\lib\\site-packages\\sklearn\\linear_model\\coordinate_descent.py:471: ConvergenceWarning: Objective did not converge. You might want to increase the number of iterations. Duality gap: 25138.084534058347, tolerance: 3988.776699530517\n",
      "  tol, rng, random, positive)\n",
      "C:\\Users\\vishn\\Anaconda3\\lib\\site-packages\\sklearn\\linear_model\\coordinate_descent.py:471: ConvergenceWarning: Objective did not converge. You might want to increase the number of iterations. Duality gap: 25186.399591180263, tolerance: 3988.776699530517\n",
      "  tol, rng, random, positive)\n",
      "C:\\Users\\vishn\\Anaconda3\\lib\\site-packages\\sklearn\\linear_model\\coordinate_descent.py:471: ConvergenceWarning: Objective did not converge. You might want to increase the number of iterations. Duality gap: 25070.960508191027, tolerance: 3988.776699530517\n",
      "  tol, rng, random, positive)\n",
      "C:\\Users\\vishn\\Anaconda3\\lib\\site-packages\\sklearn\\linear_model\\coordinate_descent.py:471: ConvergenceWarning: Objective did not converge. You might want to increase the number of iterations. Duality gap: 25191.623990925495, tolerance: 3988.776699530517\n",
      "  tol, rng, random, positive)\n",
      "C:\\Users\\vishn\\Anaconda3\\lib\\site-packages\\sklearn\\linear_model\\coordinate_descent.py:471: ConvergenceWarning: Objective did not converge. You might want to increase the number of iterations. Duality gap: 24967.52967775031, tolerance: 3988.776699530517\n",
      "  tol, rng, random, positive)\n",
      "C:\\Users\\vishn\\Anaconda3\\lib\\site-packages\\sklearn\\linear_model\\coordinate_descent.py:471: ConvergenceWarning: Objective did not converge. You might want to increase the number of iterations. Duality gap: 25302.69118021708, tolerance: 3988.776699530517\n",
      "  tol, rng, random, positive)\n",
      "C:\\Users\\vishn\\Anaconda3\\lib\\site-packages\\sklearn\\linear_model\\coordinate_descent.py:471: ConvergenceWarning: Objective did not converge. You might want to increase the number of iterations. Duality gap: 25223.100536507787, tolerance: 3988.776699530517\n",
      "  tol, rng, random, positive)\n",
      "C:\\Users\\vishn\\Anaconda3\\lib\\site-packages\\sklearn\\linear_model\\coordinate_descent.py:471: ConvergenceWarning: Objective did not converge. You might want to increase the number of iterations. Duality gap: 24696.123672056478, tolerance: 3988.776699530517\n",
      "  tol, rng, random, positive)\n",
      "C:\\Users\\vishn\\Anaconda3\\lib\\site-packages\\sklearn\\linear_model\\coordinate_descent.py:471: ConvergenceWarning: Objective did not converge. You might want to increase the number of iterations. Duality gap: 25356.894936398137, tolerance: 3988.776699530517\n",
      "  tol, rng, random, positive)\n",
      "C:\\Users\\vishn\\Anaconda3\\lib\\site-packages\\sklearn\\linear_model\\coordinate_descent.py:471: ConvergenceWarning: Objective did not converge. You might want to increase the number of iterations. Duality gap: 24150.007888616063, tolerance: 3988.776699530517\n",
      "  tol, rng, random, positive)\n",
      "C:\\Users\\vishn\\Anaconda3\\lib\\site-packages\\sklearn\\linear_model\\coordinate_descent.py:471: ConvergenceWarning: Objective did not converge. You might want to increase the number of iterations. Duality gap: 25406.475150343496, tolerance: 3988.776699530517\n",
      "  tol, rng, random, positive)\n",
      "C:\\Users\\vishn\\Anaconda3\\lib\\site-packages\\sklearn\\linear_model\\coordinate_descent.py:471: ConvergenceWarning: Objective did not converge. You might want to increase the number of iterations. Duality gap: 104710.37080823118, tolerance: 4056.2138957943926\n",
      "  tol, rng, random, positive)\n",
      "C:\\Users\\vishn\\Anaconda3\\lib\\site-packages\\sklearn\\linear_model\\coordinate_descent.py:471: ConvergenceWarning: Objective did not converge. You might want to increase the number of iterations. Duality gap: 94290.81381870108, tolerance: 4056.2138957943926\n",
      "  tol, rng, random, positive)\n",
      "C:\\Users\\vishn\\Anaconda3\\lib\\site-packages\\sklearn\\linear_model\\coordinate_descent.py:471: ConvergenceWarning: Objective did not converge. You might want to increase the number of iterations. Duality gap: 64592.4437617152, tolerance: 4056.2138957943926\n",
      "  tol, rng, random, positive)\n",
      "C:\\Users\\vishn\\Anaconda3\\lib\\site-packages\\sklearn\\linear_model\\coordinate_descent.py:471: ConvergenceWarning: Objective did not converge. You might want to increase the number of iterations. Duality gap: 49512.454792592674, tolerance: 4056.2138957943926\n",
      "  tol, rng, random, positive)\n",
      "C:\\Users\\vishn\\Anaconda3\\lib\\site-packages\\sklearn\\linear_model\\coordinate_descent.py:471: ConvergenceWarning: Objective did not converge. You might want to increase the number of iterations. Duality gap: 40805.84311530017, tolerance: 4056.2138957943926\n",
      "  tol, rng, random, positive)\n",
      "C:\\Users\\vishn\\Anaconda3\\lib\\site-packages\\sklearn\\linear_model\\coordinate_descent.py:471: ConvergenceWarning: Objective did not converge. You might want to increase the number of iterations. Duality gap: 31162.975822244072, tolerance: 4056.2138957943926\n",
      "  tol, rng, random, positive)\n",
      "C:\\Users\\vishn\\Anaconda3\\lib\\site-packages\\sklearn\\linear_model\\coordinate_descent.py:471: ConvergenceWarning: Objective did not converge. You might want to increase the number of iterations. Duality gap: 17994.786471560365, tolerance: 4056.2138957943926\n",
      "  tol, rng, random, positive)\n",
      "C:\\Users\\vishn\\Anaconda3\\lib\\site-packages\\sklearn\\linear_model\\coordinate_descent.py:471: ConvergenceWarning: Objective did not converge. You might want to increase the number of iterations. Duality gap: 14395.457003402524, tolerance: 4056.2138957943926\n",
      "  tol, rng, random, positive)\n",
      "C:\\Users\\vishn\\Anaconda3\\lib\\site-packages\\sklearn\\linear_model\\coordinate_descent.py:471: ConvergenceWarning: Objective did not converge. You might want to increase the number of iterations. Duality gap: 12605.219597230665, tolerance: 4056.2138957943926\n",
      "  tol, rng, random, positive)\n",
      "C:\\Users\\vishn\\Anaconda3\\lib\\site-packages\\sklearn\\linear_model\\coordinate_descent.py:471: ConvergenceWarning: Objective did not converge. You might want to increase the number of iterations. Duality gap: 11299.170795593876, tolerance: 4056.2138957943926\n",
      "  tol, rng, random, positive)\n",
      "C:\\Users\\vishn\\Anaconda3\\lib\\site-packages\\sklearn\\linear_model\\coordinate_descent.py:471: ConvergenceWarning: Objective did not converge. You might want to increase the number of iterations. Duality gap: 10346.702001865953, tolerance: 4056.2138957943926\n",
      "  tol, rng, random, positive)\n",
      "C:\\Users\\vishn\\Anaconda3\\lib\\site-packages\\sklearn\\linear_model\\coordinate_descent.py:471: ConvergenceWarning: Objective did not converge. You might want to increase the number of iterations. Duality gap: 9654.695476915687, tolerance: 4056.2138957943926\n",
      "  tol, rng, random, positive)\n",
      "C:\\Users\\vishn\\Anaconda3\\lib\\site-packages\\sklearn\\linear_model\\coordinate_descent.py:471: ConvergenceWarning: Objective did not converge. You might want to increase the number of iterations. Duality gap: 9153.310135921463, tolerance: 4056.2138957943926\n",
      "  tol, rng, random, positive)\n",
      "C:\\Users\\vishn\\Anaconda3\\lib\\site-packages\\sklearn\\linear_model\\coordinate_descent.py:471: ConvergenceWarning: Objective did not converge. You might want to increase the number of iterations. Duality gap: 8790.697495864937, tolerance: 4056.2138957943926\n",
      "  tol, rng, random, positive)\n",
      "C:\\Users\\vishn\\Anaconda3\\lib\\site-packages\\sklearn\\linear_model\\coordinate_descent.py:471: ConvergenceWarning: Objective did not converge. You might want to increase the number of iterations. Duality gap: 8528.852557495702, tolerance: 4056.2138957943926\n",
      "  tol, rng, random, positive)\n",
      "C:\\Users\\vishn\\Anaconda3\\lib\\site-packages\\sklearn\\linear_model\\coordinate_descent.py:471: ConvergenceWarning: Objective did not converge. You might want to increase the number of iterations. Duality gap: 8339.900841706898, tolerance: 4056.2138957943926\n",
      "  tol, rng, random, positive)\n",
      "C:\\Users\\vishn\\Anaconda3\\lib\\site-packages\\sklearn\\linear_model\\coordinate_descent.py:471: ConvergenceWarning: Objective did not converge. You might want to increase the number of iterations. Duality gap: 8203.70783513179, tolerance: 4056.2138957943926\n",
      "  tol, rng, random, positive)\n",
      "C:\\Users\\vishn\\Anaconda3\\lib\\site-packages\\sklearn\\linear_model\\coordinate_descent.py:471: ConvergenceWarning: Objective did not converge. You might want to increase the number of iterations. Duality gap: 8105.5146350958385, tolerance: 4056.2138957943926\n",
      "  tol, rng, random, positive)\n",
      "C:\\Users\\vishn\\Anaconda3\\lib\\site-packages\\sklearn\\linear_model\\coordinate_descent.py:471: ConvergenceWarning: Objective did not converge. You might want to increase the number of iterations. Duality gap: 8034.846068987157, tolerance: 4056.2138957943926\n",
      "  tol, rng, random, positive)\n",
      "C:\\Users\\vishn\\Anaconda3\\lib\\site-packages\\sklearn\\linear_model\\coordinate_descent.py:471: ConvergenceWarning: Objective did not converge. You might want to increase the number of iterations. Duality gap: 7983.906860264018, tolerance: 4056.2138957943926\n",
      "  tol, rng, random, positive)\n",
      "C:\\Users\\vishn\\Anaconda3\\lib\\site-packages\\sklearn\\linear_model\\coordinate_descent.py:471: ConvergenceWarning: Objective did not converge. You might want to increase the number of iterations. Duality gap: 7947.159497396788, tolerance: 4056.2138957943926\n",
      "  tol, rng, random, positive)\n",
      "C:\\Users\\vishn\\Anaconda3\\lib\\site-packages\\sklearn\\linear_model\\coordinate_descent.py:471: ConvergenceWarning: Objective did not converge. You might want to increase the number of iterations. Duality gap: 7920.750988330925, tolerance: 4056.2138957943926\n",
      "  tol, rng, random, positive)\n"
     ]
    },
    {
     "name": "stderr",
     "output_type": "stream",
     "text": [
      "C:\\Users\\vishn\\Anaconda3\\lib\\site-packages\\sklearn\\linear_model\\coordinate_descent.py:471: ConvergenceWarning: Objective did not converge. You might want to increase the number of iterations. Duality gap: 7901.877791479463, tolerance: 4056.2138957943926\n",
      "  tol, rng, random, positive)\n",
      "C:\\Users\\vishn\\Anaconda3\\lib\\site-packages\\sklearn\\linear_model\\coordinate_descent.py:471: ConvergenceWarning: Objective did not converge. You might want to increase the number of iterations. Duality gap: 7888.19247417408, tolerance: 4056.2138957943926\n",
      "  tol, rng, random, positive)\n",
      "C:\\Users\\vishn\\Anaconda3\\lib\\site-packages\\sklearn\\linear_model\\coordinate_descent.py:471: ConvergenceWarning: Objective did not converge. You might want to increase the number of iterations. Duality gap: 7878.259208648233, tolerance: 4056.2138957943926\n",
      "  tol, rng, random, positive)\n",
      "C:\\Users\\vishn\\Anaconda3\\lib\\site-packages\\sklearn\\linear_model\\coordinate_descent.py:471: ConvergenceWarning: Objective did not converge. You might want to increase the number of iterations. Duality gap: 7871.258909306489, tolerance: 4056.2138957943926\n",
      "  tol, rng, random, positive)\n",
      "C:\\Users\\vishn\\Anaconda3\\lib\\site-packages\\sklearn\\linear_model\\coordinate_descent.py:471: ConvergenceWarning: Objective did not converge. You might want to increase the number of iterations. Duality gap: 7865.617550519295, tolerance: 4056.2138957943926\n",
      "  tol, rng, random, positive)\n",
      "C:\\Users\\vishn\\Anaconda3\\lib\\site-packages\\sklearn\\linear_model\\coordinate_descent.py:471: ConvergenceWarning: Objective did not converge. You might want to increase the number of iterations. Duality gap: 7863.570040610153, tolerance: 4056.2138957943926\n",
      "  tol, rng, random, positive)\n",
      "C:\\Users\\vishn\\Anaconda3\\lib\\site-packages\\sklearn\\linear_model\\coordinate_descent.py:471: ConvergenceWarning: Objective did not converge. You might want to increase the number of iterations. Duality gap: 7859.722682741238, tolerance: 4056.2138957943926\n",
      "  tol, rng, random, positive)\n",
      "C:\\Users\\vishn\\Anaconda3\\lib\\site-packages\\sklearn\\linear_model\\coordinate_descent.py:471: ConvergenceWarning: Objective did not converge. You might want to increase the number of iterations. Duality gap: 7858.154023188865, tolerance: 4056.2138957943926\n",
      "  tol, rng, random, positive)\n",
      "C:\\Users\\vishn\\Anaconda3\\lib\\site-packages\\sklearn\\linear_model\\coordinate_descent.py:471: ConvergenceWarning: Objective did not converge. You might want to increase the number of iterations. Duality gap: 7856.690296352375, tolerance: 4056.2138957943926\n",
      "  tol, rng, random, positive)\n",
      "C:\\Users\\vishn\\Anaconda3\\lib\\site-packages\\sklearn\\linear_model\\coordinate_descent.py:471: ConvergenceWarning: Objective did not converge. You might want to increase the number of iterations. Duality gap: 7852.007762287743, tolerance: 4056.2138957943926\n",
      "  tol, rng, random, positive)\n",
      "C:\\Users\\vishn\\Anaconda3\\lib\\site-packages\\sklearn\\linear_model\\coordinate_descent.py:471: ConvergenceWarning: Objective did not converge. You might want to increase the number of iterations. Duality gap: 7849.262064718641, tolerance: 4056.2138957943926\n",
      "  tol, rng, random, positive)\n",
      "C:\\Users\\vishn\\Anaconda3\\lib\\site-packages\\sklearn\\linear_model\\coordinate_descent.py:471: ConvergenceWarning: Objective did not converge. You might want to increase the number of iterations. Duality gap: 7849.6119759741705, tolerance: 4056.2138957943926\n",
      "  tol, rng, random, positive)\n",
      "C:\\Users\\vishn\\Anaconda3\\lib\\site-packages\\sklearn\\linear_model\\coordinate_descent.py:471: ConvergenceWarning: Objective did not converge. You might want to increase the number of iterations. Duality gap: 7854.191588030197, tolerance: 4056.2138957943926\n",
      "  tol, rng, random, positive)\n",
      "C:\\Users\\vishn\\Anaconda3\\lib\\site-packages\\sklearn\\linear_model\\coordinate_descent.py:471: ConvergenceWarning: Objective did not converge. You might want to increase the number of iterations. Duality gap: 7842.528406222118, tolerance: 4056.2138957943926\n",
      "  tol, rng, random, positive)\n",
      "C:\\Users\\vishn\\Anaconda3\\lib\\site-packages\\sklearn\\linear_model\\coordinate_descent.py:471: ConvergenceWarning: Objective did not converge. You might want to increase the number of iterations. Duality gap: 7853.64280789718, tolerance: 4056.2138957943926\n",
      "  tol, rng, random, positive)\n",
      "C:\\Users\\vishn\\Anaconda3\\lib\\site-packages\\sklearn\\linear_model\\coordinate_descent.py:471: ConvergenceWarning: Objective did not converge. You might want to increase the number of iterations. Duality gap: 7855.003769047093, tolerance: 4056.2138957943926\n",
      "  tol, rng, random, positive)\n",
      "C:\\Users\\vishn\\Anaconda3\\lib\\site-packages\\sklearn\\linear_model\\coordinate_descent.py:471: ConvergenceWarning: Objective did not converge. You might want to increase the number of iterations. Duality gap: 7882.626121214591, tolerance: 4056.2138957943926\n",
      "  tol, rng, random, positive)\n",
      "C:\\Users\\vishn\\Anaconda3\\lib\\site-packages\\sklearn\\linear_model\\coordinate_descent.py:471: ConvergenceWarning: Objective did not converge. You might want to increase the number of iterations. Duality gap: 7800.123135368805, tolerance: 4056.2138957943926\n",
      "  tol, rng, random, positive)\n",
      "C:\\Users\\vishn\\Anaconda3\\lib\\site-packages\\sklearn\\linear_model\\coordinate_descent.py:471: ConvergenceWarning: Objective did not converge. You might want to increase the number of iterations. Duality gap: 7862.3594657042995, tolerance: 4056.2138957943926\n",
      "  tol, rng, random, positive)\n",
      "C:\\Users\\vishn\\Anaconda3\\lib\\site-packages\\sklearn\\linear_model\\coordinate_descent.py:471: ConvergenceWarning: Objective did not converge. You might want to increase the number of iterations. Duality gap: 7761.101002797019, tolerance: 4056.2138957943926\n",
      "  tol, rng, random, positive)\n",
      "C:\\Users\\vishn\\Anaconda3\\lib\\site-packages\\sklearn\\linear_model\\coordinate_descent.py:471: ConvergenceWarning: Objective did not converge. You might want to increase the number of iterations. Duality gap: 7836.828324350063, tolerance: 4056.2138957943926\n",
      "  tol, rng, random, positive)\n",
      "C:\\Users\\vishn\\Anaconda3\\lib\\site-packages\\sklearn\\linear_model\\coordinate_descent.py:471: ConvergenceWarning: Objective did not converge. You might want to increase the number of iterations. Duality gap: 7667.327848023968, tolerance: 4056.2138957943926\n",
      "  tol, rng, random, positive)\n",
      "C:\\Users\\vishn\\Anaconda3\\lib\\site-packages\\sklearn\\linear_model\\coordinate_descent.py:471: ConvergenceWarning: Objective did not converge. You might want to increase the number of iterations. Duality gap: 7586.640853863442, tolerance: 4056.2138957943926\n",
      "  tol, rng, random, positive)\n",
      "C:\\Users\\vishn\\Anaconda3\\lib\\site-packages\\sklearn\\linear_model\\coordinate_descent.py:471: ConvergenceWarning: Objective did not converge. You might want to increase the number of iterations. Duality gap: 7822.427430195967, tolerance: 4056.2138957943926\n",
      "  tol, rng, random, positive)\n",
      "C:\\Users\\vishn\\Anaconda3\\lib\\site-packages\\sklearn\\linear_model\\coordinate_descent.py:471: ConvergenceWarning: Objective did not converge. You might want to increase the number of iterations. Duality gap: 7853.684041111497, tolerance: 4056.2138957943926\n",
      "  tol, rng, random, positive)\n",
      "C:\\Users\\vishn\\Anaconda3\\lib\\site-packages\\sklearn\\linear_model\\coordinate_descent.py:471: ConvergenceWarning: Objective did not converge. You might want to increase the number of iterations. Duality gap: 7310.172701380681, tolerance: 4056.2138957943926\n",
      "  tol, rng, random, positive)\n",
      "C:\\Users\\vishn\\Anaconda3\\lib\\site-packages\\sklearn\\linear_model\\coordinate_descent.py:471: ConvergenceWarning: Objective did not converge. You might want to increase the number of iterations. Duality gap: 7972.96662351815, tolerance: 4056.2138957943926\n",
      "  tol, rng, random, positive)\n",
      "C:\\Users\\vishn\\Anaconda3\\lib\\site-packages\\sklearn\\linear_model\\coordinate_descent.py:475: ConvergenceWarning: Objective did not converge. You might want to increase the number of iterations. Duality gap: 1207107.6356698275, tolerance: 6107.0088187500005\n",
      "  positive)\n"
     ]
    }
   ],
   "source": [
    "model_cv = lass_cv.fit(X_train, y_train)"
   ]
  },
  {
   "cell_type": "code",
   "execution_count": 30,
   "metadata": {},
   "outputs": [
    {
     "data": {
      "text/plain": [
       "1.9306977288832496"
      ]
     },
     "execution_count": 30,
     "metadata": {},
     "output_type": "execute_result"
    }
   ],
   "source": [
    "model_cv.alpha_"
   ]
  },
  {
   "cell_type": "code",
   "execution_count": 34,
   "metadata": {},
   "outputs": [
    {
     "name": "stderr",
     "output_type": "stream",
     "text": [
      "C:\\Users\\vishn\\Anaconda3\\lib\\site-packages\\sklearn\\linear_model\\coordinate_descent.py:475: ConvergenceWarning: Objective did not converge. You might want to increase the number of iterations. Duality gap: 1207107.6356698275, tolerance: 6107.0088187500005\n",
      "  positive)\n"
     ]
    },
    {
     "data": {
      "text/plain": [
       "array([-7.79515108e+00,  2.02198084e-01,  9.17309631e-01,  1.81812717e+01,\n",
       "       -6.07368233e-01, -1.86811803e-01,  0.00000000e+00,  3.96776417e+02,\n",
       "       -2.77691335e+00, -3.40703776e+00,  6.60861944e+00, -0.00000000e+00])"
      ]
     },
     "execution_count": 34,
     "metadata": {},
     "output_type": "execute_result"
    }
   ],
   "source": [
    "LassoModel = Lasso(alpha = 1.9306977288832496) \n",
    "LassoModel.fit(X_train, y_train)\n",
    "y_train_pred_Lasso = LassoModel.predict(X_train)\n",
    "y_test_pred_Lasso = LassoModel.predict(X_test)\n",
    "Lasso_train = (mean_squared_error(y_train,y_train_pred_Lasso))\n",
    "Lasso_test = (mean_squared_error(y_test,y_test_pred_Lasso))\n",
    "LassoModel.coef_"
   ]
  },
  {
   "cell_type": "markdown",
   "metadata": {},
   "source": [
    "#### Observations and Inferences:\n",
    "- Observe and explain the difference in the behaviour of lasso and ridge coefficients as $\\lambda$ increases.\n",
    "- Briefly explain which of Lasso and Ridge regression would perform better in terms of validation error and the interpretability of developed models in the the following cases:\n",
    "    - The output response is related to almost all predictors.\n",
    "    - The output response is only related to let's say, 6 out of 40 predictors.\n",
    "- List out the features selected by Lasso regression for the optimal value of $\\lambda$."
   ]
  },
  {
   "cell_type": "markdown",
   "metadata": {},
   "source": [
    "1) The coefficients are close to zero in ridge regression but they don't converge. But in lasso, they converge to zero. <br>\n",
    "2) Since ridge regression doesn't eleiminate variables it's better to use ridge model when output response is related to almost all predictors but lasso gives more sparser weights and almost eliminates coefficients, it's better to use it for output resposne is only related to 6 out of 40 predictors <br>\n",
    "3) The features selected are ['Income', 'Limit', 'Rating', 'Cards', 'Age', 'Education',\n",
    "       'Student_Yes', 'Married_Yes', 'Ethnicity_African American',\n",
    "       'Ethnicity_Asian']"
   ]
  },
  {
   "cell_type": "markdown",
   "metadata": {},
   "source": [
    "#### Bonus (Optional) : \n",
    "- Try out Best Subset Selection, Forward Stepwise Selection, Backward Stepwise Selection and Recursive Feature Elimination for feature selection. Compare the selected features, validation error and computational complexity for the above with Lasso/Ridge regression.\n",
    "- Use elastic net regression and compare validation error with ridge and lasso regession."
   ]
  }
 ],
 "metadata": {
  "kernelspec": {
   "display_name": "Python 3",
   "language": "python",
   "name": "python3"
  },
  "language_info": {
   "codemirror_mode": {
    "name": "ipython",
    "version": 3
   },
   "file_extension": ".py",
   "mimetype": "text/x-python",
   "name": "python",
   "nbconvert_exporter": "python",
   "pygments_lexer": "ipython3",
   "version": "3.7.3"
  }
 },
 "nbformat": 4,
 "nbformat_minor": 2
}
